{
 "cells": [
  {
   "cell_type": "code",
   "execution_count": 24,
   "id": "bcdc844b-e6ef-44a1-95fb-90f7328f3124",
   "metadata": {
    "tags": []
   },
   "outputs": [],
   "source": [
    "import pandas as pd\n",
    "import numpy as np\n",
    "import seaborn as sns\n",
    "import matplotlib.pyplot as plt\n",
    "from sklearn.preprocessing import StandardScaler\n",
    "from sklearn.svm import SVC\n",
    "from sklearn.linear_model import LogisticRegression\n",
    "from sklearn.tree import DecisionTreeClassifier\n",
    "from sklearn.ensemble import RandomForestClassifier\n",
    "from sklearn.model_selection import train_test_split\n",
    "from sklearn.metrics import confusion_matrix\n",
    "from sklearn.metrics import precision_score\n",
    "from sklearn.metrics import recall_score\n",
    "from sklearn.metrics import roc_curve\n",
    "from sklearn.metrics import roc_auc_score\n",
    "from sklearn.metrics import f1_score\n",
    "from sklearn.model_selection import GridSearchCV\n",
    "from sklearn.metrics import accuracy_score\n",
    "from imblearn.over_sampling import SMOTE"
   ]
  },
  {
   "cell_type": "code",
   "execution_count": 3,
   "id": "f6f80be0-08b3-4996-b96a-58b2581471ab",
   "metadata": {
    "tags": []
   },
   "outputs": [],
   "source": [
    "df = pd.read_csv(r\"C:\\Users\\Khalil.hasanov\\Desktop\\my theis\\churn30 thesis sample.csv\")"
   ]
  },
  {
   "cell_type": "code",
   "execution_count": 26,
   "id": "516e1efb-1155-408a-ac01-fb501700bafc",
   "metadata": {
    "tags": []
   },
   "outputs": [
    {
     "data": {
      "text/plain": [
       "churn30\n",
       "0    7237\n",
       "1    2763\n",
       "Name: count, dtype: int64"
      ]
     },
     "execution_count": 26,
     "metadata": {},
     "output_type": "execute_result"
    }
   ],
   "source": [
    "df[\"churn30\"].value_counts()"
   ]
  },
  {
   "cell_type": "code",
   "execution_count": 11,
   "id": "ffdc1dc9-7fec-4f9e-98e6-ccfc6a4cf893",
   "metadata": {
    "tags": []
   },
   "outputs": [
    {
     "name": "stdout",
     "output_type": "stream",
     "text": [
      "       amount_30_W2W_in  amount_30_W2W_out  amount_30_C2W  amount_30_W2C  \\\n",
      "count      1.000000e+04       1.000000e+04   10000.000000    10000.00000   \n",
      "mean       9.453510e+02       9.678376e+02     741.957900      767.43010   \n",
      "std        2.086832e+04       2.049811e+04    3584.158881     4628.45506   \n",
      "min        0.000000e+00       0.000000e+00       0.000000        0.00000   \n",
      "25%        0.000000e+00       0.000000e+00       0.000000        0.00000   \n",
      "50%        0.000000e+00       0.000000e+00      40.500000       12.00000   \n",
      "75%        1.000000e+01       1.200000e+01     334.000000      270.00000   \n",
      "max        1.456504e+06       1.402602e+06  131659.000000   253353.00000   \n",
      "\n",
      "       amount_30_COA  amount_30_CIT  amount_30_Bills  amount_30_Bravo  \\\n",
      "count   10000.000000   10000.000000     10000.000000     10000.000000   \n",
      "mean      306.505700     485.306100       118.468200         5.018800   \n",
      "std      4178.409087    4291.542174       503.261616        54.581702   \n",
      "min         0.000000       0.000000         0.000000         0.000000   \n",
      "25%         0.000000       0.000000         0.000000         0.000000   \n",
      "50%         0.000000       0.000000        12.000000         0.000000   \n",
      "75%         0.000000      36.250000        76.000000         0.000000   \n",
      "max    274205.000000  219188.000000     21110.000000      4198.000000   \n",
      "\n",
      "       amount_30_PB  amount_30_EntrPay  ...  amount_180_W2C  amount_180_COA  \\\n",
      "count   10000.00000            10000.0  ...    10000.000000    10000.000000   \n",
      "mean       12.94200                0.0  ...     1248.916000      713.566100   \n",
      "std       157.84667                0.0  ...    11493.743358     9147.278496   \n",
      "min         0.00000                0.0  ...        0.000000        0.000000   \n",
      "25%         0.00000                0.0  ...        0.000000        0.000000   \n",
      "50%         0.00000                0.0  ...        0.000000        0.000000   \n",
      "75%         0.00000                0.0  ...      101.250000        0.000000   \n",
      "max      9925.00000                0.0  ...   904481.000000   423595.000000   \n",
      "\n",
      "       amount_180_CIT  amount_180_Bills  amount_180_Bravo  amount_180_PB  \\\n",
      "count    10000.000000      10000.000000      10000.000000   10000.000000   \n",
      "mean       746.192400        172.406700          6.430300       3.460700   \n",
      "std       6750.519099        784.295612        108.337774      31.070005   \n",
      "min          0.000000          0.000000          0.000000       0.000000   \n",
      "25%          0.000000          0.000000          0.000000       0.000000   \n",
      "50%          0.000000          0.000000          0.000000       0.000000   \n",
      "75%          1.000000         89.000000          0.000000       0.000000   \n",
      "max     245215.000000      35350.000000       9849.000000    1108.000000   \n",
      "\n",
      "       amount_180_EntrPay  amount_180_IN  amount_180_OUT  amount_180_QR  \n",
      "count        10000.000000   1.000000e+04    1.000000e+04   10000.000000  \n",
      "mean             0.017300   3.372869e+03    3.185590e+03       9.908300  \n",
      "std              0.637057   3.512653e+04    3.494492e+04     114.693621  \n",
      "min              0.000000   0.000000e+00    0.000000e+00       0.000000  \n",
      "25%              0.000000   0.000000e+00    0.000000e+00       0.000000  \n",
      "50%              0.000000   3.500000e+01    0.000000e+00       0.000000  \n",
      "75%              0.000000   5.520000e+02    2.560000e+02       0.000000  \n",
      "max             36.000000   1.983802e+06    1.980964e+06    9849.000000  \n",
      "\n",
      "[8 rows x 39 columns]\n"
     ]
    }
   ],
   "source": [
    "amount_columns = df.filter(like='amount')\n",
    "\n",
    "# Describe the filtered columns\n",
    "description = amount_columns.describe()\n",
    "\n",
    "print(description)"
   ]
  },
  {
   "cell_type": "code",
   "execution_count": 12,
   "id": "3c74cf37-e215-4452-8b05-a253d787229e",
   "metadata": {
    "tags": []
   },
   "outputs": [
    {
     "name": "stdout",
     "output_type": "stream",
     "text": [
      "       bonus_segment source_group tenure_range\n",
      "count          10000        10000        10000\n",
      "unique             5           11            6\n",
      "top         no_bonus   Google Ads      270day+\n",
      "freq            8120         3881         6404\n"
     ]
    }
   ],
   "source": [
    "# Filter columns based on specified column names\n",
    "filtered_columns = df[['bonus_segment', 'source_group', 'tenure_range', 'app_removed']]\n",
    "\n",
    "# Describe categorical columns\n",
    "categorical_summary = filtered_columns.describe(include=['object'])\n",
    "\n",
    "print(categorical_summary)"
   ]
  },
  {
   "cell_type": "code",
   "execution_count": 13,
   "id": "b71d119b-f6c2-4f24-81e8-3de4c53fee85",
   "metadata": {
    "tags": []
   },
   "outputs": [
    {
     "name": "stdout",
     "output_type": "stream",
     "text": [
      "bonus_segment             churn30\n",
      "Million_bonus             0          1185\n",
      "                          1           547\n",
      "Retention_bonus2          0            17\n",
      "Welcome+Retention2_bonus  0            14\n",
      "                          1            12\n",
      "Welcome_bonus             0            73\n",
      "                          1            32\n",
      "no_bonus                  0          5948\n",
      "                          1          2172\n",
      "Name: count, dtype: int64\n"
     ]
    }
   ],
   "source": [
    "grouped_counts_bonus = df.groupby('bonus_segment')['churn30'].value_counts()\n",
    "\n",
    "# Displaying the grouped counts\n",
    "print(grouped_counts_bonus)"
   ]
  },
  {
   "cell_type": "code",
   "execution_count": 14,
   "id": "cd21c543-6d30-4040-b810-3ea9575f8e49",
   "metadata": {
    "tags": []
   },
   "outputs": [
    {
     "name": "stdout",
     "output_type": "stream",
     "text": [
      "source_group      churn30\n",
      "Apple Search Ads  0           539\n",
      "                  1           149\n",
      "Facebook Ads      0           180\n",
      "                  1            56\n",
      "Google Ads        0          2765\n",
      "                  1          1116\n",
      "Influencers       0             5\n",
      "MilliON           0            77\n",
      "                  1            25\n",
      "Organic           0          2780\n",
      "                  1          1092\n",
      "Others            0           683\n",
      "                  1           268\n",
      "QR_code           0            21\n",
      "                  1            11\n",
      "Referral          0             2\n",
      "SMS               0            28\n",
      "                  1            13\n",
      "landing_page      0           157\n",
      "                  1            33\n",
      "Name: count, dtype: int64\n"
     ]
    }
   ],
   "source": [
    "grouped_counts_source = df.groupby('source_group')['churn30'].value_counts()\n",
    "\n",
    "# Displaying the grouped counts\n",
    "print(grouped_counts_source)"
   ]
  },
  {
   "cell_type": "code",
   "execution_count": 15,
   "id": "9cecdeaf-60f7-40cc-83d2-7b8cf44bf30b",
   "metadata": {
    "tags": []
   },
   "outputs": [
    {
     "name": "stdout",
     "output_type": "stream",
     "text": [
      "tenure_range  churn30\n",
      "120-180day    0           563\n",
      "              1           189\n",
      "180-270day    0          1030\n",
      "              1           369\n",
      "270day+       0          4738\n",
      "              1          1666\n",
      "31-60day      1           129\n",
      "              0            54\n",
      "60-90day      0           473\n",
      "              1           229\n",
      "90-120day     0           379\n",
      "              1           181\n",
      "Name: count, dtype: int64\n"
     ]
    }
   ],
   "source": [
    "grouped_counts_tenure = df.groupby('tenure_range')['churn30'].value_counts()\n",
    "\n",
    "# Displaying the grouped counts\n",
    "print(grouped_counts_tenure)"
   ]
  },
  {
   "cell_type": "code",
   "execution_count": 16,
   "id": "53a10e7c-df47-4952-8b30-7707a239d29a",
   "metadata": {},
   "outputs": [
    {
     "data": {
      "text/html": [
       "<div>\n",
       "<style scoped>\n",
       "    .dataframe tbody tr th:only-of-type {\n",
       "        vertical-align: middle;\n",
       "    }\n",
       "\n",
       "    .dataframe tbody tr th {\n",
       "        vertical-align: top;\n",
       "    }\n",
       "\n",
       "    .dataframe thead th {\n",
       "        text-align: right;\n",
       "    }\n",
       "</style>\n",
       "<table border=\"1\" class=\"dataframe\">\n",
       "  <thead>\n",
       "    <tr style=\"text-align: right;\">\n",
       "      <th></th>\n",
       "      <th>Million_bonus</th>\n",
       "      <th>Retention_bonus2</th>\n",
       "      <th>Welcome+Retention2_bonus</th>\n",
       "      <th>Welcome_bonus</th>\n",
       "      <th>no_bonus</th>\n",
       "    </tr>\n",
       "  </thead>\n",
       "  <tbody>\n",
       "    <tr>\n",
       "      <th>0</th>\n",
       "      <td>0</td>\n",
       "      <td>0</td>\n",
       "      <td>0</td>\n",
       "      <td>0</td>\n",
       "      <td>1</td>\n",
       "    </tr>\n",
       "    <tr>\n",
       "      <th>1</th>\n",
       "      <td>0</td>\n",
       "      <td>0</td>\n",
       "      <td>0</td>\n",
       "      <td>0</td>\n",
       "      <td>1</td>\n",
       "    </tr>\n",
       "    <tr>\n",
       "      <th>2</th>\n",
       "      <td>0</td>\n",
       "      <td>0</td>\n",
       "      <td>0</td>\n",
       "      <td>0</td>\n",
       "      <td>1</td>\n",
       "    </tr>\n",
       "    <tr>\n",
       "      <th>3</th>\n",
       "      <td>1</td>\n",
       "      <td>0</td>\n",
       "      <td>0</td>\n",
       "      <td>0</td>\n",
       "      <td>0</td>\n",
       "    </tr>\n",
       "    <tr>\n",
       "      <th>4</th>\n",
       "      <td>1</td>\n",
       "      <td>0</td>\n",
       "      <td>0</td>\n",
       "      <td>0</td>\n",
       "      <td>0</td>\n",
       "    </tr>\n",
       "  </tbody>\n",
       "</table>\n",
       "</div>"
      ],
      "text/plain": [
       "   Million_bonus  Retention_bonus2  Welcome+Retention2_bonus  Welcome_bonus  \\\n",
       "0              0                 0                         0              0   \n",
       "1              0                 0                         0              0   \n",
       "2              0                 0                         0              0   \n",
       "3              1                 0                         0              0   \n",
       "4              1                 0                         0              0   \n",
       "\n",
       "   no_bonus  \n",
       "0         1  \n",
       "1         1  \n",
       "2         1  \n",
       "3         0  \n",
       "4         0  "
      ]
     },
     "execution_count": 16,
     "metadata": {},
     "output_type": "execute_result"
    }
   ],
   "source": [
    "df_bonus_segment = pd.get_dummies(df[\"bonus_segment\"])\n",
    "\n",
    "df_bonus_segment= df_bonus_segment.replace({False: 0,True: 1})\n",
    "df_bonus_segment.head()"
   ]
  },
  {
   "cell_type": "code",
   "execution_count": 17,
   "id": "576fc584-d16f-4189-87d2-287fc8c57145",
   "metadata": {
    "tags": []
   },
   "outputs": [
    {
     "data": {
      "text/html": [
       "<div>\n",
       "<style scoped>\n",
       "    .dataframe tbody tr th:only-of-type {\n",
       "        vertical-align: middle;\n",
       "    }\n",
       "\n",
       "    .dataframe tbody tr th {\n",
       "        vertical-align: top;\n",
       "    }\n",
       "\n",
       "    .dataframe thead th {\n",
       "        text-align: right;\n",
       "    }\n",
       "</style>\n",
       "<table border=\"1\" class=\"dataframe\">\n",
       "  <thead>\n",
       "    <tr style=\"text-align: right;\">\n",
       "      <th></th>\n",
       "      <th>Apple Search Ads</th>\n",
       "      <th>Facebook Ads</th>\n",
       "      <th>Google Ads</th>\n",
       "      <th>Influencers</th>\n",
       "      <th>MilliON</th>\n",
       "      <th>Organic</th>\n",
       "      <th>Others</th>\n",
       "      <th>QR_code</th>\n",
       "      <th>Referral</th>\n",
       "      <th>SMS</th>\n",
       "      <th>landing_page</th>\n",
       "    </tr>\n",
       "  </thead>\n",
       "  <tbody>\n",
       "    <tr>\n",
       "      <th>0</th>\n",
       "      <td>0</td>\n",
       "      <td>0</td>\n",
       "      <td>1</td>\n",
       "      <td>0</td>\n",
       "      <td>0</td>\n",
       "      <td>0</td>\n",
       "      <td>0</td>\n",
       "      <td>0</td>\n",
       "      <td>0</td>\n",
       "      <td>0</td>\n",
       "      <td>0</td>\n",
       "    </tr>\n",
       "    <tr>\n",
       "      <th>1</th>\n",
       "      <td>0</td>\n",
       "      <td>0</td>\n",
       "      <td>0</td>\n",
       "      <td>0</td>\n",
       "      <td>0</td>\n",
       "      <td>0</td>\n",
       "      <td>0</td>\n",
       "      <td>0</td>\n",
       "      <td>0</td>\n",
       "      <td>0</td>\n",
       "      <td>1</td>\n",
       "    </tr>\n",
       "    <tr>\n",
       "      <th>2</th>\n",
       "      <td>0</td>\n",
       "      <td>0</td>\n",
       "      <td>1</td>\n",
       "      <td>0</td>\n",
       "      <td>0</td>\n",
       "      <td>0</td>\n",
       "      <td>0</td>\n",
       "      <td>0</td>\n",
       "      <td>0</td>\n",
       "      <td>0</td>\n",
       "      <td>0</td>\n",
       "    </tr>\n",
       "    <tr>\n",
       "      <th>3</th>\n",
       "      <td>0</td>\n",
       "      <td>0</td>\n",
       "      <td>0</td>\n",
       "      <td>0</td>\n",
       "      <td>0</td>\n",
       "      <td>0</td>\n",
       "      <td>1</td>\n",
       "      <td>0</td>\n",
       "      <td>0</td>\n",
       "      <td>0</td>\n",
       "      <td>0</td>\n",
       "    </tr>\n",
       "    <tr>\n",
       "      <th>4</th>\n",
       "      <td>0</td>\n",
       "      <td>0</td>\n",
       "      <td>0</td>\n",
       "      <td>0</td>\n",
       "      <td>0</td>\n",
       "      <td>0</td>\n",
       "      <td>1</td>\n",
       "      <td>0</td>\n",
       "      <td>0</td>\n",
       "      <td>0</td>\n",
       "      <td>0</td>\n",
       "    </tr>\n",
       "  </tbody>\n",
       "</table>\n",
       "</div>"
      ],
      "text/plain": [
       "   Apple Search Ads  Facebook Ads  Google Ads  Influencers  MilliON  Organic  \\\n",
       "0                 0             0           1            0        0        0   \n",
       "1                 0             0           0            0        0        0   \n",
       "2                 0             0           1            0        0        0   \n",
       "3                 0             0           0            0        0        0   \n",
       "4                 0             0           0            0        0        0   \n",
       "\n",
       "   Others  QR_code  Referral  SMS  landing_page  \n",
       "0       0        0         0    0             0  \n",
       "1       0        0         0    0             1  \n",
       "2       0        0         0    0             0  \n",
       "3       1        0         0    0             0  \n",
       "4       1        0         0    0             0  "
      ]
     },
     "execution_count": 17,
     "metadata": {},
     "output_type": "execute_result"
    }
   ],
   "source": [
    "df_source_group = pd.get_dummies(df[\"source_group\"])\n",
    "\n",
    "df_source_group= df_source_group.replace({False: 0,True: 1})\n",
    "df_source_group.head()"
   ]
  },
  {
   "cell_type": "code",
   "execution_count": 18,
   "id": "fafe667a-2479-43fd-a89b-34f242b2864e",
   "metadata": {
    "tags": []
   },
   "outputs": [
    {
     "data": {
      "text/html": [
       "<div>\n",
       "<style scoped>\n",
       "    .dataframe tbody tr th:only-of-type {\n",
       "        vertical-align: middle;\n",
       "    }\n",
       "\n",
       "    .dataframe tbody tr th {\n",
       "        vertical-align: top;\n",
       "    }\n",
       "\n",
       "    .dataframe thead th {\n",
       "        text-align: right;\n",
       "    }\n",
       "</style>\n",
       "<table border=\"1\" class=\"dataframe\">\n",
       "  <thead>\n",
       "    <tr style=\"text-align: right;\">\n",
       "      <th></th>\n",
       "      <th>120-180day</th>\n",
       "      <th>180-270day</th>\n",
       "      <th>270day+</th>\n",
       "      <th>31-60day</th>\n",
       "      <th>60-90day</th>\n",
       "      <th>90-120day</th>\n",
       "    </tr>\n",
       "  </thead>\n",
       "  <tbody>\n",
       "    <tr>\n",
       "      <th>0</th>\n",
       "      <td>0</td>\n",
       "      <td>0</td>\n",
       "      <td>1</td>\n",
       "      <td>0</td>\n",
       "      <td>0</td>\n",
       "      <td>0</td>\n",
       "    </tr>\n",
       "    <tr>\n",
       "      <th>1</th>\n",
       "      <td>0</td>\n",
       "      <td>1</td>\n",
       "      <td>0</td>\n",
       "      <td>0</td>\n",
       "      <td>0</td>\n",
       "      <td>0</td>\n",
       "    </tr>\n",
       "    <tr>\n",
       "      <th>2</th>\n",
       "      <td>0</td>\n",
       "      <td>0</td>\n",
       "      <td>1</td>\n",
       "      <td>0</td>\n",
       "      <td>0</td>\n",
       "      <td>0</td>\n",
       "    </tr>\n",
       "    <tr>\n",
       "      <th>3</th>\n",
       "      <td>0</td>\n",
       "      <td>0</td>\n",
       "      <td>1</td>\n",
       "      <td>0</td>\n",
       "      <td>0</td>\n",
       "      <td>0</td>\n",
       "    </tr>\n",
       "    <tr>\n",
       "      <th>4</th>\n",
       "      <td>0</td>\n",
       "      <td>0</td>\n",
       "      <td>1</td>\n",
       "      <td>0</td>\n",
       "      <td>0</td>\n",
       "      <td>0</td>\n",
       "    </tr>\n",
       "  </tbody>\n",
       "</table>\n",
       "</div>"
      ],
      "text/plain": [
       "   120-180day  180-270day  270day+  31-60day  60-90day  90-120day\n",
       "0           0           0        1         0         0          0\n",
       "1           0           1        0         0         0          0\n",
       "2           0           0        1         0         0          0\n",
       "3           0           0        1         0         0          0\n",
       "4           0           0        1         0         0          0"
      ]
     },
     "execution_count": 18,
     "metadata": {},
     "output_type": "execute_result"
    }
   ],
   "source": [
    "df_tenure_range = pd.get_dummies(df[\"tenure_range\"])\n",
    "\n",
    "df_tenure_range= df_tenure_range.replace({False: 0,True: 1})\n",
    "df_tenure_range.head()"
   ]
  },
  {
   "cell_type": "code",
   "execution_count": 19,
   "id": "695e221d-a226-4f19-b633-1184e8b00cc9",
   "metadata": {
    "tags": []
   },
   "outputs": [
    {
     "data": {
      "text/html": [
       "<div>\n",
       "<style scoped>\n",
       "    .dataframe tbody tr th:only-of-type {\n",
       "        vertical-align: middle;\n",
       "    }\n",
       "\n",
       "    .dataframe tbody tr th {\n",
       "        vertical-align: top;\n",
       "    }\n",
       "\n",
       "    .dataframe thead th {\n",
       "        text-align: right;\n",
       "    }\n",
       "</style>\n",
       "<table border=\"1\" class=\"dataframe\">\n",
       "  <thead>\n",
       "    <tr style=\"text-align: right;\">\n",
       "      <th></th>\n",
       "      <th>app_removed</th>\n",
       "      <th>churn30</th>\n",
       "    </tr>\n",
       "  </thead>\n",
       "  <tbody>\n",
       "    <tr>\n",
       "      <th>0</th>\n",
       "      <td>0</td>\n",
       "      <td>0</td>\n",
       "    </tr>\n",
       "    <tr>\n",
       "      <th>1</th>\n",
       "      <td>0</td>\n",
       "      <td>0</td>\n",
       "    </tr>\n",
       "    <tr>\n",
       "      <th>2</th>\n",
       "      <td>1</td>\n",
       "      <td>1</td>\n",
       "    </tr>\n",
       "    <tr>\n",
       "      <th>3</th>\n",
       "      <td>0</td>\n",
       "      <td>0</td>\n",
       "    </tr>\n",
       "    <tr>\n",
       "      <th>4</th>\n",
       "      <td>0</td>\n",
       "      <td>0</td>\n",
       "    </tr>\n",
       "  </tbody>\n",
       "</table>\n",
       "</div>"
      ],
      "text/plain": [
       "   app_removed  churn30\n",
       "0            0        0\n",
       "1            0        0\n",
       "2            1        1\n",
       "3            0        0\n",
       "4            0        0"
      ]
     },
     "execution_count": 19,
     "metadata": {},
     "output_type": "execute_result"
    }
   ],
   "source": [
    "df_app_churn=df[[\"app_removed\",\"churn30\"]]\n",
    "df_app_churn.head()"
   ]
  },
  {
   "cell_type": "code",
   "execution_count": 46,
   "id": "f6fbf0c5-4912-4504-8e74-3a355b805b98",
   "metadata": {
    "tags": []
   },
   "outputs": [
    {
     "name": "stdout",
     "output_type": "stream",
     "text": [
      "Original class distribution:\n",
      "churn30\n",
      "0    7237\n",
      "1    2763\n",
      "Name: count, dtype: int64\n",
      "\n",
      "Resampled class distribution after SMOTE:\n",
      "churn30\n",
      "0    7237\n",
      "1    7237\n",
      "Name: count, dtype: int64\n",
      "\n",
      "Resampled DataFrame:\n",
      "       Million_bonus  Retention_bonus2  Welcome+Retention2_bonus  \\\n",
      "0                  0                 0                         0   \n",
      "1                  0                 0                         0   \n",
      "2                  0                 0                         0   \n",
      "3                  1                 0                         0   \n",
      "4                  1                 0                         0   \n",
      "...              ...               ...                       ...   \n",
      "14469              0                 0                         0   \n",
      "14470              0                 0                         0   \n",
      "14471              0                 0                         0   \n",
      "14472              0                 0                         0   \n",
      "14473              0                 0                         0   \n",
      "\n",
      "       Welcome_bonus  no_bonus  Apple Search Ads  Facebook Ads  Google Ads  \\\n",
      "0                  0         1                 0             0           1   \n",
      "1                  0         1                 0             0           0   \n",
      "2                  0         1                 0             0           1   \n",
      "3                  0         0                 0             0           0   \n",
      "4                  0         0                 0             0           0   \n",
      "...              ...       ...               ...           ...         ...   \n",
      "14469              0         1                 0             0           0   \n",
      "14470              0         1                 0             0           0   \n",
      "14471              0         0                 0             0           1   \n",
      "14472              0         1                 0             0           0   \n",
      "14473              0         1                 0             0           0   \n",
      "\n",
      "       Influencers  MilliON  ...  tr_count_180_PB  amount_180_EntrPay  \\\n",
      "0                0        0  ...                1                   0   \n",
      "1                0        0  ...                0                   0   \n",
      "2                0        0  ...                0                   0   \n",
      "3                0        0  ...                0                   0   \n",
      "4                0        0  ...                0                   0   \n",
      "...            ...      ...  ...              ...                 ...   \n",
      "14469            0        0  ...                0                   0   \n",
      "14470            0        0  ...                0                   0   \n",
      "14471            0        0  ...                0                   0   \n",
      "14472            0        0  ...                0                   0   \n",
      "14473            0        0  ...                0                   0   \n",
      "\n",
      "       tr_count_180_EntrPay  amount_180_IN  tr_count_180_IN  amount_180_OUT  \\\n",
      "0                         0            722               10             683   \n",
      "1                         0            235                9             235   \n",
      "2                         0              0                0               0   \n",
      "3                         0             25                1               1   \n",
      "4                         0            209                6              77   \n",
      "...                     ...            ...              ...             ...   \n",
      "14469                     0              0                0               0   \n",
      "14470                     0              0                0               0   \n",
      "14471                     0              0                0               0   \n",
      "14472                     0              0                0               0   \n",
      "14473                     0              0                0               0   \n",
      "\n",
      "       tr_count_180_OUT  amount_180_QR  tr_count_180_QR  churn30  \n",
      "0                    10             39                2        0  \n",
      "1                    16              0                0        0  \n",
      "2                     0              0                0        1  \n",
      "3                     1              0                0        0  \n",
      "4                     1              0                0        0  \n",
      "...                 ...            ...              ...      ...  \n",
      "14469                 0              0                0        1  \n",
      "14470                 0              0                0        1  \n",
      "14471                 0              0                0        1  \n",
      "14472                 0              0                0        1  \n",
      "14473                 0              0                0        1  \n",
      "\n",
      "[14474 rows x 105 columns]\n"
     ]
    }
   ],
   "source": [
    "# Assuming df is your dataframe\n",
    "columns_to_removeofsmo = [\"bonus_segment\", \"source_group\", \"tenure_range\"]\n",
    "df_smoote = df.drop(columns=columns_to_removeofsmo)\n",
    "\n",
    "combined_df_smoote = pd.concat([df_bonus_segment, df_source_group, df_tenure_range, df_smoote], axis=1)\n",
    "\n",
    "# Separate features and target variable\n",
    "X = combined_df_smoote.drop('churn30', axis=1)\n",
    "y = combined_df_smoote['churn30']\n",
    "\n",
    "# Apply SMOTE to oversample the minority class\n",
    "smote = SMOTE()\n",
    "X_resampled, y_resampled = smote.fit_resample(X, y)\n",
    "\n",
    "# Create a new DataFrame with the resampled data\n",
    "df_resampled = pd.concat([pd.DataFrame(X_resampled, columns=X.columns), pd.DataFrame(y_resampled, columns=['churn30'])], axis=1)\n",
    "\n",
    "print(\"Original class distribution:\")\n",
    "print(y.value_counts())\n",
    "\n",
    "print(\"\\nResampled class distribution after SMOTE:\")\n",
    "print(y_resampled.value_counts())\n",
    "\n",
    "print(\"\\nResampled DataFrame:\")\n",
    "print(df_resampled)"
   ]
  },
  {
   "cell_type": "code",
   "execution_count": 54,
   "id": "497b7a33-e0c1-40d1-b60c-7e13c4ec40fb",
   "metadata": {
    "tags": []
   },
   "outputs": [
    {
     "data": {
      "text/html": [
       "<div>\n",
       "<style scoped>\n",
       "    .dataframe tbody tr th:only-of-type {\n",
       "        vertical-align: middle;\n",
       "    }\n",
       "\n",
       "    .dataframe tbody tr th {\n",
       "        vertical-align: top;\n",
       "    }\n",
       "\n",
       "    .dataframe thead th {\n",
       "        text-align: right;\n",
       "    }\n",
       "</style>\n",
       "<table border=\"1\" class=\"dataframe\">\n",
       "  <thead>\n",
       "    <tr style=\"text-align: right;\">\n",
       "      <th></th>\n",
       "      <th>Million_bonus</th>\n",
       "      <th>Retention_bonus2</th>\n",
       "      <th>Welcome+Retention2_bonus</th>\n",
       "      <th>Welcome_bonus</th>\n",
       "      <th>no_bonus</th>\n",
       "      <th>Apple Search Ads</th>\n",
       "      <th>Facebook Ads</th>\n",
       "      <th>Google Ads</th>\n",
       "      <th>Influencers</th>\n",
       "      <th>MilliON</th>\n",
       "      <th>...</th>\n",
       "      <th>amount_180_PB</th>\n",
       "      <th>tr_count_180_PB</th>\n",
       "      <th>amount_180_EntrPay</th>\n",
       "      <th>tr_count_180_EntrPay</th>\n",
       "      <th>amount_180_IN</th>\n",
       "      <th>tr_count_180_IN</th>\n",
       "      <th>amount_180_OUT</th>\n",
       "      <th>tr_count_180_OUT</th>\n",
       "      <th>amount_180_QR</th>\n",
       "      <th>tr_count_180_QR</th>\n",
       "    </tr>\n",
       "  </thead>\n",
       "  <tbody>\n",
       "    <tr>\n",
       "      <th>0</th>\n",
       "      <td>-0.404820</td>\n",
       "      <td>-0.034291</td>\n",
       "      <td>-0.042421</td>\n",
       "      <td>-0.085892</td>\n",
       "      <td>0.556229</td>\n",
       "      <td>-0.226616</td>\n",
       "      <td>-0.129022</td>\n",
       "      <td>1.435736</td>\n",
       "      <td>-0.018589</td>\n",
       "      <td>-0.084244</td>\n",
       "      <td>...</td>\n",
       "      <td>0.929705</td>\n",
       "      <td>0.610575</td>\n",
       "      <td>-0.022821</td>\n",
       "      <td>-0.030407</td>\n",
       "      <td>-0.059525</td>\n",
       "      <td>-0.006852</td>\n",
       "      <td>-0.056834</td>\n",
       "      <td>0.004874</td>\n",
       "      <td>0.325067</td>\n",
       "      <td>0.551818</td>\n",
       "    </tr>\n",
       "    <tr>\n",
       "      <th>1</th>\n",
       "      <td>-0.404820</td>\n",
       "      <td>-0.034291</td>\n",
       "      <td>-0.042421</td>\n",
       "      <td>-0.085892</td>\n",
       "      <td>0.556229</td>\n",
       "      <td>-0.226616</td>\n",
       "      <td>-0.129022</td>\n",
       "      <td>-0.696507</td>\n",
       "      <td>-0.018589</td>\n",
       "      <td>-0.084244</td>\n",
       "      <td>...</td>\n",
       "      <td>-0.098723</td>\n",
       "      <td>-0.127541</td>\n",
       "      <td>-0.022821</td>\n",
       "      <td>-0.030407</td>\n",
       "      <td>-0.072987</td>\n",
       "      <td>-0.017995</td>\n",
       "      <td>-0.069267</td>\n",
       "      <td>0.131010</td>\n",
       "      <td>-0.079213</td>\n",
       "      <td>-0.150955</td>\n",
       "    </tr>\n",
       "    <tr>\n",
       "      <th>2</th>\n",
       "      <td>-0.404820</td>\n",
       "      <td>-0.034291</td>\n",
       "      <td>-0.042421</td>\n",
       "      <td>-0.085892</td>\n",
       "      <td>0.556229</td>\n",
       "      <td>-0.226616</td>\n",
       "      <td>-0.129022</td>\n",
       "      <td>1.435736</td>\n",
       "      <td>-0.018589</td>\n",
       "      <td>-0.084244</td>\n",
       "      <td>...</td>\n",
       "      <td>-0.098723</td>\n",
       "      <td>-0.127541</td>\n",
       "      <td>-0.022821</td>\n",
       "      <td>-0.030407</td>\n",
       "      <td>-0.079482</td>\n",
       "      <td>-0.118283</td>\n",
       "      <td>-0.075789</td>\n",
       "      <td>-0.205351</td>\n",
       "      <td>-0.079213</td>\n",
       "      <td>-0.150955</td>\n",
       "    </tr>\n",
       "    <tr>\n",
       "      <th>3</th>\n",
       "      <td>2.470235</td>\n",
       "      <td>-0.034291</td>\n",
       "      <td>-0.042421</td>\n",
       "      <td>-0.085892</td>\n",
       "      <td>-1.797822</td>\n",
       "      <td>-0.226616</td>\n",
       "      <td>-0.129022</td>\n",
       "      <td>-0.696507</td>\n",
       "      <td>-0.018589</td>\n",
       "      <td>-0.084244</td>\n",
       "      <td>...</td>\n",
       "      <td>-0.098723</td>\n",
       "      <td>-0.127541</td>\n",
       "      <td>-0.022821</td>\n",
       "      <td>-0.030407</td>\n",
       "      <td>-0.078791</td>\n",
       "      <td>-0.107140</td>\n",
       "      <td>-0.075761</td>\n",
       "      <td>-0.184329</td>\n",
       "      <td>-0.079213</td>\n",
       "      <td>-0.150955</td>\n",
       "    </tr>\n",
       "    <tr>\n",
       "      <th>4</th>\n",
       "      <td>2.470235</td>\n",
       "      <td>-0.034291</td>\n",
       "      <td>-0.042421</td>\n",
       "      <td>-0.085892</td>\n",
       "      <td>-1.797822</td>\n",
       "      <td>-0.226616</td>\n",
       "      <td>-0.129022</td>\n",
       "      <td>-0.696507</td>\n",
       "      <td>-0.018589</td>\n",
       "      <td>-0.084244</td>\n",
       "      <td>...</td>\n",
       "      <td>-0.098723</td>\n",
       "      <td>-0.127541</td>\n",
       "      <td>-0.022821</td>\n",
       "      <td>-0.030407</td>\n",
       "      <td>-0.073705</td>\n",
       "      <td>-0.051424</td>\n",
       "      <td>-0.073652</td>\n",
       "      <td>-0.184329</td>\n",
       "      <td>-0.079213</td>\n",
       "      <td>-0.150955</td>\n",
       "    </tr>\n",
       "  </tbody>\n",
       "</table>\n",
       "<p>5 rows × 103 columns</p>\n",
       "</div>"
      ],
      "text/plain": [
       "   Million_bonus  Retention_bonus2  Welcome+Retention2_bonus  Welcome_bonus  \\\n",
       "0      -0.404820         -0.034291                 -0.042421      -0.085892   \n",
       "1      -0.404820         -0.034291                 -0.042421      -0.085892   \n",
       "2      -0.404820         -0.034291                 -0.042421      -0.085892   \n",
       "3       2.470235         -0.034291                 -0.042421      -0.085892   \n",
       "4       2.470235         -0.034291                 -0.042421      -0.085892   \n",
       "\n",
       "   no_bonus  Apple Search Ads  Facebook Ads  Google Ads  Influencers  \\\n",
       "0  0.556229         -0.226616     -0.129022    1.435736    -0.018589   \n",
       "1  0.556229         -0.226616     -0.129022   -0.696507    -0.018589   \n",
       "2  0.556229         -0.226616     -0.129022    1.435736    -0.018589   \n",
       "3 -1.797822         -0.226616     -0.129022   -0.696507    -0.018589   \n",
       "4 -1.797822         -0.226616     -0.129022   -0.696507    -0.018589   \n",
       "\n",
       "    MilliON  ...  amount_180_PB  tr_count_180_PB  amount_180_EntrPay  \\\n",
       "0 -0.084244  ...       0.929705         0.610575           -0.022821   \n",
       "1 -0.084244  ...      -0.098723        -0.127541           -0.022821   \n",
       "2 -0.084244  ...      -0.098723        -0.127541           -0.022821   \n",
       "3 -0.084244  ...      -0.098723        -0.127541           -0.022821   \n",
       "4 -0.084244  ...      -0.098723        -0.127541           -0.022821   \n",
       "\n",
       "   tr_count_180_EntrPay  amount_180_IN  tr_count_180_IN  amount_180_OUT  \\\n",
       "0             -0.030407      -0.059525        -0.006852       -0.056834   \n",
       "1             -0.030407      -0.072987        -0.017995       -0.069267   \n",
       "2             -0.030407      -0.079482        -0.118283       -0.075789   \n",
       "3             -0.030407      -0.078791        -0.107140       -0.075761   \n",
       "4             -0.030407      -0.073705        -0.051424       -0.073652   \n",
       "\n",
       "   tr_count_180_OUT  amount_180_QR  tr_count_180_QR  \n",
       "0          0.004874       0.325067         0.551818  \n",
       "1          0.131010      -0.079213        -0.150955  \n",
       "2         -0.205351      -0.079213        -0.150955  \n",
       "3         -0.184329      -0.079213        -0.150955  \n",
       "4         -0.184329      -0.079213        -0.150955  \n",
       "\n",
       "[5 rows x 103 columns]"
      ]
     },
     "execution_count": 54,
     "metadata": {},
     "output_type": "execute_result"
    }
   ],
   "source": [
    "# Assuming df is your dataframe\n",
    "columns_to_remove = [\"bonus_segment\", \"source_group\", \"tenure_range\", \"churn30\", \"app_removed\"]\n",
    "df_prepare_scale = df.drop(columns=columns_to_remove)\n",
    "\n",
    "# Scale the data\n",
    "scaler = StandardScaler()\n",
    "df_scaled_values = scaler.fit_transform(df_prepare_scale)\n",
    "\n",
    "# Create a DataFrame with scaled values and original column names\n",
    "df_scaled = pd.DataFrame(df_scaled_values, columns=df_prepare_scale.columns)\n",
    "df_scaled.head()\n",
    "\n",
    "\n"
   ]
  },
  {
   "cell_type": "code",
   "execution_count": 44,
   "id": "b3a17edd-d8bb-4141-95bd-03aa4d8a53d5",
   "metadata": {
    "tags": []
   },
   "outputs": [
    {
     "name": "stdout",
     "output_type": "stream",
     "text": [
      "   Million_bonus  Retention_bonus2  Welcome+Retention2_bonus  Welcome_bonus  \\\n",
      "0              0                 0                         0              0   \n",
      "1              0                 0                         0              0   \n",
      "2              0                 0                         0              0   \n",
      "3              1                 0                         0              0   \n",
      "4              1                 0                         0              0   \n",
      "\n",
      "   no_bonus  Apple Search Ads  Facebook Ads  Google Ads  Influencers  MilliON  \\\n",
      "0         1                 0             0           1            0        0   \n",
      "1         1                 0             0           0            0        0   \n",
      "2         1                 0             0           1            0        0   \n",
      "3         0                 0             0           0            0        0   \n",
      "4         0                 0             0           0            0        0   \n",
      "\n",
      "   ...  amount_180_EntrPay  tr_count_180_EntrPay  amount_180_IN  \\\n",
      "0  ...           -0.027157              -0.03659      -0.075470   \n",
      "1  ...           -0.027157              -0.03659      -0.089335   \n",
      "2  ...           -0.027157              -0.03659      -0.096025   \n",
      "3  ...           -0.027157              -0.03659      -0.095314   \n",
      "4  ...           -0.027157              -0.03659      -0.090075   \n",
      "\n",
      "   tr_count_180_IN  amount_180_OUT  tr_count_180_OUT  amount_180_QR  \\\n",
      "0        -0.034525       -0.071619         -0.044212       0.253660   \n",
      "1        -0.043844       -0.084440          0.066563      -0.086394   \n",
      "2        -0.127710       -0.091165         -0.228836      -0.086394   \n",
      "3        -0.118392       -0.091136         -0.210374      -0.086394   \n",
      "4        -0.071799       -0.088961         -0.210374      -0.086394   \n",
      "\n",
      "   tr_count_180_QR  app_removed  churn30  \n",
      "0          0.42781            0        0  \n",
      "1         -0.16699            0        0  \n",
      "2         -0.16699            1        1  \n",
      "3         -0.16699            0        0  \n",
      "4         -0.16699            0        0  \n",
      "\n",
      "[5 rows x 105 columns]\n"
     ]
    }
   ],
   "source": [
    "combined_df = pd.concat([df_bonus_segment, df_source_group, df_tenure_range, df_scaled, df_app_churn], axis=1)\n",
    "\n",
    "# Print the combined DataFrame\n",
    "print(combined_df.head())"
   ]
  },
  {
   "cell_type": "code",
   "execution_count": null,
   "id": "39332052-c3f0-41f9-ab69-2757a55d39cf",
   "metadata": {},
   "outputs": [],
   "source": []
  },
  {
   "cell_type": "code",
   "execution_count": 45,
   "id": "dfebe940-a5b6-41cd-a6eb-8b5584656dfe",
   "metadata": {
    "tags": []
   },
   "outputs": [
    {
     "data": {
      "text/html": [
       "<div>\n",
       "<style scoped>\n",
       "    .dataframe tbody tr th:only-of-type {\n",
       "        vertical-align: middle;\n",
       "    }\n",
       "\n",
       "    .dataframe tbody tr th {\n",
       "        vertical-align: top;\n",
       "    }\n",
       "\n",
       "    .dataframe thead th {\n",
       "        text-align: right;\n",
       "    }\n",
       "</style>\n",
       "<table border=\"1\" class=\"dataframe\">\n",
       "  <thead>\n",
       "    <tr style=\"text-align: right;\">\n",
       "      <th></th>\n",
       "      <th>Million_bonus</th>\n",
       "      <th>Retention_bonus2</th>\n",
       "      <th>Welcome+Retention2_bonus</th>\n",
       "      <th>Welcome_bonus</th>\n",
       "      <th>no_bonus</th>\n",
       "      <th>Apple Search Ads</th>\n",
       "      <th>Facebook Ads</th>\n",
       "      <th>Google Ads</th>\n",
       "      <th>Influencers</th>\n",
       "      <th>MilliON</th>\n",
       "      <th>...</th>\n",
       "      <th>amount_180_EntrPay</th>\n",
       "      <th>tr_count_180_EntrPay</th>\n",
       "      <th>amount_180_IN</th>\n",
       "      <th>tr_count_180_IN</th>\n",
       "      <th>amount_180_OUT</th>\n",
       "      <th>tr_count_180_OUT</th>\n",
       "      <th>amount_180_QR</th>\n",
       "      <th>tr_count_180_QR</th>\n",
       "      <th>app_removed</th>\n",
       "      <th>churn30</th>\n",
       "    </tr>\n",
       "  </thead>\n",
       "  <tbody>\n",
       "    <tr>\n",
       "      <th>Million_bonus</th>\n",
       "      <td>1.000000</td>\n",
       "      <td>-0.018887</td>\n",
       "      <td>-0.023368</td>\n",
       "      <td>-0.047148</td>\n",
       "      <td>-0.951202</td>\n",
       "      <td>-0.047150</td>\n",
       "      <td>-0.048526</td>\n",
       "      <td>-0.014744</td>\n",
       "      <td>0.001584</td>\n",
       "      <td>0.008767</td>\n",
       "      <td>...</td>\n",
       "      <td>0.000015</td>\n",
       "      <td>-0.001480</td>\n",
       "      <td>-0.028922</td>\n",
       "      <td>-0.016967</td>\n",
       "      <td>-0.028494</td>\n",
       "      <td>-0.029774</td>\n",
       "      <td>-0.022033</td>\n",
       "      <td>-0.020396</td>\n",
       "      <td>0.030622</td>\n",
       "      <td>0.040450</td>\n",
       "    </tr>\n",
       "    <tr>\n",
       "      <th>Retention_bonus2</th>\n",
       "      <td>-0.018887</td>\n",
       "      <td>1.000000</td>\n",
       "      <td>-0.002107</td>\n",
       "      <td>-0.004251</td>\n",
       "      <td>-0.085762</td>\n",
       "      <td>0.017554</td>\n",
       "      <td>-0.006416</td>\n",
       "      <td>-0.002977</td>\n",
       "      <td>-0.000923</td>\n",
       "      <td>-0.004189</td>\n",
       "      <td>...</td>\n",
       "      <td>-0.001121</td>\n",
       "      <td>-0.001510</td>\n",
       "      <td>-0.001713</td>\n",
       "      <td>0.008935</td>\n",
       "      <td>-0.001794</td>\n",
       "      <td>0.018522</td>\n",
       "      <td>-0.001089</td>\n",
       "      <td>0.000328</td>\n",
       "      <td>-0.005426</td>\n",
       "      <td>-0.025498</td>\n",
       "    </tr>\n",
       "    <tr>\n",
       "      <th>Welcome+Retention2_bonus</th>\n",
       "      <td>-0.023368</td>\n",
       "      <td>-0.002107</td>\n",
       "      <td>1.000000</td>\n",
       "      <td>-0.005259</td>\n",
       "      <td>-0.106109</td>\n",
       "      <td>0.001639</td>\n",
       "      <td>-0.007938</td>\n",
       "      <td>-0.004395</td>\n",
       "      <td>-0.001142</td>\n",
       "      <td>-0.005183</td>\n",
       "      <td>...</td>\n",
       "      <td>-0.001387</td>\n",
       "      <td>-0.001868</td>\n",
       "      <td>-0.003985</td>\n",
       "      <td>-0.001031</td>\n",
       "      <td>-0.003820</td>\n",
       "      <td>-0.000807</td>\n",
       "      <td>-0.004411</td>\n",
       "      <td>-0.008526</td>\n",
       "      <td>0.009612</td>\n",
       "      <td>0.021150</td>\n",
       "    </tr>\n",
       "    <tr>\n",
       "      <th>Welcome_bonus</th>\n",
       "      <td>-0.047148</td>\n",
       "      <td>-0.004251</td>\n",
       "      <td>-0.005259</td>\n",
       "      <td>1.000000</td>\n",
       "      <td>-0.214085</td>\n",
       "      <td>0.003008</td>\n",
       "      <td>-0.009552</td>\n",
       "      <td>0.004529</td>\n",
       "      <td>-0.002304</td>\n",
       "      <td>-0.000693</td>\n",
       "      <td>...</td>\n",
       "      <td>-0.002798</td>\n",
       "      <td>-0.003769</td>\n",
       "      <td>0.006847</td>\n",
       "      <td>-0.000284</td>\n",
       "      <td>0.007165</td>\n",
       "      <td>0.001387</td>\n",
       "      <td>-0.004306</td>\n",
       "      <td>-0.002322</td>\n",
       "      <td>-0.004224</td>\n",
       "      <td>0.006557</td>\n",
       "    </tr>\n",
       "    <tr>\n",
       "      <th>no_bonus</th>\n",
       "      <td>-0.951202</td>\n",
       "      <td>-0.085762</td>\n",
       "      <td>-0.106109</td>\n",
       "      <td>-0.214085</td>\n",
       "      <td>1.000000</td>\n",
       "      <td>0.042817</td>\n",
       "      <td>0.051202</td>\n",
       "      <td>0.013985</td>\n",
       "      <td>-0.000687</td>\n",
       "      <td>-0.007193</td>\n",
       "      <td>...</td>\n",
       "      <td>0.001014</td>\n",
       "      <td>0.002819</td>\n",
       "      <td>0.026926</td>\n",
       "      <td>0.015699</td>\n",
       "      <td>0.026415</td>\n",
       "      <td>0.026627</td>\n",
       "      <td>0.023152</td>\n",
       "      <td>0.021436</td>\n",
       "      <td>-0.029237</td>\n",
       "      <td>-0.040956</td>\n",
       "    </tr>\n",
       "    <tr>\n",
       "      <th>...</th>\n",
       "      <td>...</td>\n",
       "      <td>...</td>\n",
       "      <td>...</td>\n",
       "      <td>...</td>\n",
       "      <td>...</td>\n",
       "      <td>...</td>\n",
       "      <td>...</td>\n",
       "      <td>...</td>\n",
       "      <td>...</td>\n",
       "      <td>...</td>\n",
       "      <td>...</td>\n",
       "      <td>...</td>\n",
       "      <td>...</td>\n",
       "      <td>...</td>\n",
       "      <td>...</td>\n",
       "      <td>...</td>\n",
       "      <td>...</td>\n",
       "      <td>...</td>\n",
       "      <td>...</td>\n",
       "      <td>...</td>\n",
       "      <td>...</td>\n",
       "    </tr>\n",
       "    <tr>\n",
       "      <th>tr_count_180_OUT</th>\n",
       "      <td>-0.029774</td>\n",
       "      <td>0.018522</td>\n",
       "      <td>-0.000807</td>\n",
       "      <td>0.001387</td>\n",
       "      <td>0.026627</td>\n",
       "      <td>0.066788</td>\n",
       "      <td>-0.013903</td>\n",
       "      <td>-0.012577</td>\n",
       "      <td>0.001489</td>\n",
       "      <td>-0.010221</td>\n",
       "      <td>...</td>\n",
       "      <td>-0.002067</td>\n",
       "      <td>0.001298</td>\n",
       "      <td>0.421087</td>\n",
       "      <td>0.318838</td>\n",
       "      <td>0.420073</td>\n",
       "      <td>1.000000</td>\n",
       "      <td>0.106189</td>\n",
       "      <td>0.089470</td>\n",
       "      <td>0.010683</td>\n",
       "      <td>-0.086979</td>\n",
       "    </tr>\n",
       "    <tr>\n",
       "      <th>amount_180_QR</th>\n",
       "      <td>-0.022033</td>\n",
       "      <td>-0.001089</td>\n",
       "      <td>-0.004411</td>\n",
       "      <td>-0.004306</td>\n",
       "      <td>0.023152</td>\n",
       "      <td>0.026629</td>\n",
       "      <td>-0.000301</td>\n",
       "      <td>-0.042105</td>\n",
       "      <td>0.000447</td>\n",
       "      <td>-0.006757</td>\n",
       "      <td>...</td>\n",
       "      <td>0.031558</td>\n",
       "      <td>0.036232</td>\n",
       "      <td>0.143218</td>\n",
       "      <td>0.048899</td>\n",
       "      <td>0.139915</td>\n",
       "      <td>0.106189</td>\n",
       "      <td>1.000000</td>\n",
       "      <td>0.367693</td>\n",
       "      <td>0.016386</td>\n",
       "      <td>-0.036730</td>\n",
       "    </tr>\n",
       "    <tr>\n",
       "      <th>tr_count_180_QR</th>\n",
       "      <td>-0.020396</td>\n",
       "      <td>0.000328</td>\n",
       "      <td>-0.008526</td>\n",
       "      <td>-0.002322</td>\n",
       "      <td>0.021436</td>\n",
       "      <td>0.023463</td>\n",
       "      <td>0.001271</td>\n",
       "      <td>-0.043036</td>\n",
       "      <td>0.002917</td>\n",
       "      <td>-0.010144</td>\n",
       "      <td>...</td>\n",
       "      <td>0.042244</td>\n",
       "      <td>0.053454</td>\n",
       "      <td>0.042944</td>\n",
       "      <td>0.052014</td>\n",
       "      <td>0.040257</td>\n",
       "      <td>0.089470</td>\n",
       "      <td>0.367693</td>\n",
       "      <td>1.000000</td>\n",
       "      <td>0.002731</td>\n",
       "      <td>-0.068797</td>\n",
       "    </tr>\n",
       "    <tr>\n",
       "      <th>app_removed</th>\n",
       "      <td>0.030622</td>\n",
       "      <td>-0.005426</td>\n",
       "      <td>0.009612</td>\n",
       "      <td>-0.004224</td>\n",
       "      <td>-0.029237</td>\n",
       "      <td>-0.052320</td>\n",
       "      <td>0.001985</td>\n",
       "      <td>0.136065</td>\n",
       "      <td>-0.007368</td>\n",
       "      <td>-0.023395</td>\n",
       "      <td>...</td>\n",
       "      <td>-0.008947</td>\n",
       "      <td>-0.012054</td>\n",
       "      <td>-0.013743</td>\n",
       "      <td>-0.000449</td>\n",
       "      <td>-0.013650</td>\n",
       "      <td>0.010683</td>\n",
       "      <td>0.016386</td>\n",
       "      <td>0.002731</td>\n",
       "      <td>1.000000</td>\n",
       "      <td>0.097452</td>\n",
       "    </tr>\n",
       "    <tr>\n",
       "      <th>churn30</th>\n",
       "      <td>0.040450</td>\n",
       "      <td>-0.025498</td>\n",
       "      <td>0.021150</td>\n",
       "      <td>0.006557</td>\n",
       "      <td>-0.040956</td>\n",
       "      <td>-0.036308</td>\n",
       "      <td>-0.013563</td>\n",
       "      <td>0.020045</td>\n",
       "      <td>-0.013820</td>\n",
       "      <td>-0.007083</td>\n",
       "      <td>...</td>\n",
       "      <td>-0.015376</td>\n",
       "      <td>-0.013995</td>\n",
       "      <td>-0.015368</td>\n",
       "      <td>-0.054750</td>\n",
       "      <td>-0.013114</td>\n",
       "      <td>-0.086979</td>\n",
       "      <td>-0.036730</td>\n",
       "      <td>-0.068797</td>\n",
       "      <td>0.097452</td>\n",
       "      <td>1.000000</td>\n",
       "    </tr>\n",
       "  </tbody>\n",
       "</table>\n",
       "<p>105 rows × 105 columns</p>\n",
       "</div>"
      ],
      "text/plain": [
       "                          Million_bonus  Retention_bonus2  \\\n",
       "Million_bonus                  1.000000         -0.018887   \n",
       "Retention_bonus2              -0.018887          1.000000   \n",
       "Welcome+Retention2_bonus      -0.023368         -0.002107   \n",
       "Welcome_bonus                 -0.047148         -0.004251   \n",
       "no_bonus                      -0.951202         -0.085762   \n",
       "...                                 ...               ...   \n",
       "tr_count_180_OUT              -0.029774          0.018522   \n",
       "amount_180_QR                 -0.022033         -0.001089   \n",
       "tr_count_180_QR               -0.020396          0.000328   \n",
       "app_removed                    0.030622         -0.005426   \n",
       "churn30                        0.040450         -0.025498   \n",
       "\n",
       "                          Welcome+Retention2_bonus  Welcome_bonus  no_bonus  \\\n",
       "Million_bonus                            -0.023368      -0.047148 -0.951202   \n",
       "Retention_bonus2                         -0.002107      -0.004251 -0.085762   \n",
       "Welcome+Retention2_bonus                  1.000000      -0.005259 -0.106109   \n",
       "Welcome_bonus                            -0.005259       1.000000 -0.214085   \n",
       "no_bonus                                 -0.106109      -0.214085  1.000000   \n",
       "...                                            ...            ...       ...   \n",
       "tr_count_180_OUT                         -0.000807       0.001387  0.026627   \n",
       "amount_180_QR                            -0.004411      -0.004306  0.023152   \n",
       "tr_count_180_QR                          -0.008526      -0.002322  0.021436   \n",
       "app_removed                               0.009612      -0.004224 -0.029237   \n",
       "churn30                                   0.021150       0.006557 -0.040956   \n",
       "\n",
       "                          Apple Search Ads  Facebook Ads  Google Ads  \\\n",
       "Million_bonus                    -0.047150     -0.048526   -0.014744   \n",
       "Retention_bonus2                  0.017554     -0.006416   -0.002977   \n",
       "Welcome+Retention2_bonus          0.001639     -0.007938   -0.004395   \n",
       "Welcome_bonus                     0.003008     -0.009552    0.004529   \n",
       "no_bonus                          0.042817      0.051202    0.013985   \n",
       "...                                    ...           ...         ...   \n",
       "tr_count_180_OUT                  0.066788     -0.013903   -0.012577   \n",
       "amount_180_QR                     0.026629     -0.000301   -0.042105   \n",
       "tr_count_180_QR                   0.023463      0.001271   -0.043036   \n",
       "app_removed                      -0.052320      0.001985    0.136065   \n",
       "churn30                          -0.036308     -0.013563    0.020045   \n",
       "\n",
       "                          Influencers   MilliON  ...  amount_180_EntrPay  \\\n",
       "Million_bonus                0.001584  0.008767  ...            0.000015   \n",
       "Retention_bonus2            -0.000923 -0.004189  ...           -0.001121   \n",
       "Welcome+Retention2_bonus    -0.001142 -0.005183  ...           -0.001387   \n",
       "Welcome_bonus               -0.002304 -0.000693  ...           -0.002798   \n",
       "no_bonus                    -0.000687 -0.007193  ...            0.001014   \n",
       "...                               ...       ...  ...                 ...   \n",
       "tr_count_180_OUT             0.001489 -0.010221  ...           -0.002067   \n",
       "amount_180_QR                0.000447 -0.006757  ...            0.031558   \n",
       "tr_count_180_QR              0.002917 -0.010144  ...            0.042244   \n",
       "app_removed                 -0.007368 -0.023395  ...           -0.008947   \n",
       "churn30                     -0.013820 -0.007083  ...           -0.015376   \n",
       "\n",
       "                          tr_count_180_EntrPay  amount_180_IN  \\\n",
       "Million_bonus                        -0.001480      -0.028922   \n",
       "Retention_bonus2                     -0.001510      -0.001713   \n",
       "Welcome+Retention2_bonus             -0.001868      -0.003985   \n",
       "Welcome_bonus                        -0.003769       0.006847   \n",
       "no_bonus                              0.002819       0.026926   \n",
       "...                                        ...            ...   \n",
       "tr_count_180_OUT                      0.001298       0.421087   \n",
       "amount_180_QR                         0.036232       0.143218   \n",
       "tr_count_180_QR                       0.053454       0.042944   \n",
       "app_removed                          -0.012054      -0.013743   \n",
       "churn30                              -0.013995      -0.015368   \n",
       "\n",
       "                          tr_count_180_IN  amount_180_OUT  tr_count_180_OUT  \\\n",
       "Million_bonus                   -0.016967       -0.028494         -0.029774   \n",
       "Retention_bonus2                 0.008935       -0.001794          0.018522   \n",
       "Welcome+Retention2_bonus        -0.001031       -0.003820         -0.000807   \n",
       "Welcome_bonus                   -0.000284        0.007165          0.001387   \n",
       "no_bonus                         0.015699        0.026415          0.026627   \n",
       "...                                   ...             ...               ...   \n",
       "tr_count_180_OUT                 0.318838        0.420073          1.000000   \n",
       "amount_180_QR                    0.048899        0.139915          0.106189   \n",
       "tr_count_180_QR                  0.052014        0.040257          0.089470   \n",
       "app_removed                     -0.000449       -0.013650          0.010683   \n",
       "churn30                         -0.054750       -0.013114         -0.086979   \n",
       "\n",
       "                          amount_180_QR  tr_count_180_QR  app_removed  \\\n",
       "Million_bonus                 -0.022033        -0.020396     0.030622   \n",
       "Retention_bonus2              -0.001089         0.000328    -0.005426   \n",
       "Welcome+Retention2_bonus      -0.004411        -0.008526     0.009612   \n",
       "Welcome_bonus                 -0.004306        -0.002322    -0.004224   \n",
       "no_bonus                       0.023152         0.021436    -0.029237   \n",
       "...                                 ...              ...          ...   \n",
       "tr_count_180_OUT               0.106189         0.089470     0.010683   \n",
       "amount_180_QR                  1.000000         0.367693     0.016386   \n",
       "tr_count_180_QR                0.367693         1.000000     0.002731   \n",
       "app_removed                    0.016386         0.002731     1.000000   \n",
       "churn30                       -0.036730        -0.068797     0.097452   \n",
       "\n",
       "                           churn30  \n",
       "Million_bonus             0.040450  \n",
       "Retention_bonus2         -0.025498  \n",
       "Welcome+Retention2_bonus  0.021150  \n",
       "Welcome_bonus             0.006557  \n",
       "no_bonus                 -0.040956  \n",
       "...                            ...  \n",
       "tr_count_180_OUT         -0.086979  \n",
       "amount_180_QR            -0.036730  \n",
       "tr_count_180_QR          -0.068797  \n",
       "app_removed               0.097452  \n",
       "churn30                   1.000000  \n",
       "\n",
       "[105 rows x 105 columns]"
      ]
     },
     "execution_count": 45,
     "metadata": {},
     "output_type": "execute_result"
    }
   ],
   "source": [
    "combined_df.corr()"
   ]
  },
  {
   "cell_type": "code",
   "execution_count": 46,
   "id": "7a6e04ac-1db5-4083-ac7b-d530dbfe29ac",
   "metadata": {
    "tags": []
   },
   "outputs": [],
   "source": [
    "# Create the hyperparameter grid\n",
    "param_grid = {'max_features': ['auto', 'sqrt', 'log2']}"
   ]
  },
  {
   "cell_type": "code",
   "execution_count": 47,
   "id": "c629e7c0-a9d1-456c-a35a-c8c8d17d0db4",
   "metadata": {},
   "outputs": [],
   "source": [
    "svc = SVC(probability=True)\n",
    "clf = LogisticRegression(solver='liblinear')\n",
    "cld = DecisionTreeClassifier()\n",
    "clc = RandomForestClassifier()"
   ]
  },
  {
   "cell_type": "code",
   "execution_count": 48,
   "id": "cb801006-140a-4da4-a120-0782a8efbe7a",
   "metadata": {
    "tags": []
   },
   "outputs": [
    {
     "name": "stdout",
     "output_type": "stream",
     "text": [
      "Index(['Million_bonus', 'Retention_bonus2', 'Welcome+Retention2_bonus',\n",
      "       'Welcome_bonus', 'no_bonus', 'Apple Search Ads', 'Facebook Ads',\n",
      "       'Google Ads', 'Influencers', 'MilliON',\n",
      "       ...\n",
      "       'tr_count_180_PB', 'amount_180_EntrPay', 'tr_count_180_EntrPay',\n",
      "       'amount_180_IN', 'tr_count_180_IN', 'amount_180_OUT',\n",
      "       'tr_count_180_OUT', 'amount_180_QR', 'tr_count_180_QR', 'app_removed'],\n",
      "      dtype='object', length=104)\n"
     ]
    }
   ],
   "source": [
    "# Get all column names except \"churn30\"\n",
    "all_columns_except_churn30 = combined_df.columns[combined_df.columns != 'churn30']\n",
    "\n",
    "# Rename the array as \"features\"\n",
    "features = all_columns_except_churn30\n",
    "\n",
    "# Print the features array\n",
    "print(features)"
   ]
  },
  {
   "cell_type": "code",
   "execution_count": 49,
   "id": "0e447e76-7776-4555-ac3a-8f9a834e972a",
   "metadata": {
    "tags": []
   },
   "outputs": [
    {
     "data": {
      "text/html": [
       "<style>#sk-container-id-5 {color: black;}#sk-container-id-5 pre{padding: 0;}#sk-container-id-5 div.sk-toggleable {background-color: white;}#sk-container-id-5 label.sk-toggleable__label {cursor: pointer;display: block;width: 100%;margin-bottom: 0;padding: 0.3em;box-sizing: border-box;text-align: center;}#sk-container-id-5 label.sk-toggleable__label-arrow:before {content: \"▸\";float: left;margin-right: 0.25em;color: #696969;}#sk-container-id-5 label.sk-toggleable__label-arrow:hover:before {color: black;}#sk-container-id-5 div.sk-estimator:hover label.sk-toggleable__label-arrow:before {color: black;}#sk-container-id-5 div.sk-toggleable__content {max-height: 0;max-width: 0;overflow: hidden;text-align: left;background-color: #f0f8ff;}#sk-container-id-5 div.sk-toggleable__content pre {margin: 0.2em;color: black;border-radius: 0.25em;background-color: #f0f8ff;}#sk-container-id-5 input.sk-toggleable__control:checked~div.sk-toggleable__content {max-height: 200px;max-width: 100%;overflow: auto;}#sk-container-id-5 input.sk-toggleable__control:checked~label.sk-toggleable__label-arrow:before {content: \"▾\";}#sk-container-id-5 div.sk-estimator input.sk-toggleable__control:checked~label.sk-toggleable__label {background-color: #d4ebff;}#sk-container-id-5 div.sk-label input.sk-toggleable__control:checked~label.sk-toggleable__label {background-color: #d4ebff;}#sk-container-id-5 input.sk-hidden--visually {border: 0;clip: rect(1px 1px 1px 1px);clip: rect(1px, 1px, 1px, 1px);height: 1px;margin: -1px;overflow: hidden;padding: 0;position: absolute;width: 1px;}#sk-container-id-5 div.sk-estimator {font-family: monospace;background-color: #f0f8ff;border: 1px dotted black;border-radius: 0.25em;box-sizing: border-box;margin-bottom: 0.5em;}#sk-container-id-5 div.sk-estimator:hover {background-color: #d4ebff;}#sk-container-id-5 div.sk-parallel-item::after {content: \"\";width: 100%;border-bottom: 1px solid gray;flex-grow: 1;}#sk-container-id-5 div.sk-label:hover label.sk-toggleable__label {background-color: #d4ebff;}#sk-container-id-5 div.sk-serial::before {content: \"\";position: absolute;border-left: 1px solid gray;box-sizing: border-box;top: 0;bottom: 0;left: 50%;z-index: 0;}#sk-container-id-5 div.sk-serial {display: flex;flex-direction: column;align-items: center;background-color: white;padding-right: 0.2em;padding-left: 0.2em;position: relative;}#sk-container-id-5 div.sk-item {position: relative;z-index: 1;}#sk-container-id-5 div.sk-parallel {display: flex;align-items: stretch;justify-content: center;background-color: white;position: relative;}#sk-container-id-5 div.sk-item::before, #sk-container-id-5 div.sk-parallel-item::before {content: \"\";position: absolute;border-left: 1px solid gray;box-sizing: border-box;top: 0;bottom: 0;left: 50%;z-index: -1;}#sk-container-id-5 div.sk-parallel-item {display: flex;flex-direction: column;z-index: 1;position: relative;background-color: white;}#sk-container-id-5 div.sk-parallel-item:first-child::after {align-self: flex-end;width: 50%;}#sk-container-id-5 div.sk-parallel-item:last-child::after {align-self: flex-start;width: 50%;}#sk-container-id-5 div.sk-parallel-item:only-child::after {width: 0;}#sk-container-id-5 div.sk-dashed-wrapped {border: 1px dashed gray;margin: 0 0.4em 0.5em 0.4em;box-sizing: border-box;padding-bottom: 0.4em;background-color: white;}#sk-container-id-5 div.sk-label label {font-family: monospace;font-weight: bold;display: inline-block;line-height: 1.2em;}#sk-container-id-5 div.sk-label-container {text-align: center;}#sk-container-id-5 div.sk-container {/* jupyter's `normalize.less` sets `[hidden] { display: none; }` but bootstrap.min.css set `[hidden] { display: none !important; }` so we also need the `!important` here to be able to override the default hidden behavior on the sphinx rendered scikit-learn.org. See: https://github.com/scikit-learn/scikit-learn/issues/21755 */display: inline-block !important;position: relative;}#sk-container-id-5 div.sk-text-repr-fallback {display: none;}</style><div id=\"sk-container-id-5\" class=\"sk-top-container\"><div class=\"sk-text-repr-fallback\"><pre>LogisticRegression(solver=&#x27;liblinear&#x27;)</pre><b>In a Jupyter environment, please rerun this cell to show the HTML representation or trust the notebook. <br />On GitHub, the HTML representation is unable to render, please try loading this page with nbviewer.org.</b></div><div class=\"sk-container\" hidden><div class=\"sk-item\"><div class=\"sk-estimator sk-toggleable\"><input class=\"sk-toggleable__control sk-hidden--visually\" id=\"sk-estimator-id-5\" type=\"checkbox\" checked><label for=\"sk-estimator-id-5\" class=\"sk-toggleable__label sk-toggleable__label-arrow\">LogisticRegression</label><div class=\"sk-toggleable__content\"><pre>LogisticRegression(solver=&#x27;liblinear&#x27;)</pre></div></div></div></div></div>"
      ],
      "text/plain": [
       "LogisticRegression(solver='liblinear')"
      ]
     },
     "execution_count": 49,
     "metadata": {},
     "output_type": "execute_result"
    }
   ],
   "source": [
    "\n",
    "clf.fit(combined_df[features], combined_df['churn30'])"
   ]
  },
  {
   "cell_type": "code",
   "execution_count": 50,
   "id": "0699ff00-e36b-432e-a851-225f092bb6df",
   "metadata": {
    "tags": []
   },
   "outputs": [
    {
     "data": {
      "text/html": [
       "<style>#sk-container-id-6 {color: black;}#sk-container-id-6 pre{padding: 0;}#sk-container-id-6 div.sk-toggleable {background-color: white;}#sk-container-id-6 label.sk-toggleable__label {cursor: pointer;display: block;width: 100%;margin-bottom: 0;padding: 0.3em;box-sizing: border-box;text-align: center;}#sk-container-id-6 label.sk-toggleable__label-arrow:before {content: \"▸\";float: left;margin-right: 0.25em;color: #696969;}#sk-container-id-6 label.sk-toggleable__label-arrow:hover:before {color: black;}#sk-container-id-6 div.sk-estimator:hover label.sk-toggleable__label-arrow:before {color: black;}#sk-container-id-6 div.sk-toggleable__content {max-height: 0;max-width: 0;overflow: hidden;text-align: left;background-color: #f0f8ff;}#sk-container-id-6 div.sk-toggleable__content pre {margin: 0.2em;color: black;border-radius: 0.25em;background-color: #f0f8ff;}#sk-container-id-6 input.sk-toggleable__control:checked~div.sk-toggleable__content {max-height: 200px;max-width: 100%;overflow: auto;}#sk-container-id-6 input.sk-toggleable__control:checked~label.sk-toggleable__label-arrow:before {content: \"▾\";}#sk-container-id-6 div.sk-estimator input.sk-toggleable__control:checked~label.sk-toggleable__label {background-color: #d4ebff;}#sk-container-id-6 div.sk-label input.sk-toggleable__control:checked~label.sk-toggleable__label {background-color: #d4ebff;}#sk-container-id-6 input.sk-hidden--visually {border: 0;clip: rect(1px 1px 1px 1px);clip: rect(1px, 1px, 1px, 1px);height: 1px;margin: -1px;overflow: hidden;padding: 0;position: absolute;width: 1px;}#sk-container-id-6 div.sk-estimator {font-family: monospace;background-color: #f0f8ff;border: 1px dotted black;border-radius: 0.25em;box-sizing: border-box;margin-bottom: 0.5em;}#sk-container-id-6 div.sk-estimator:hover {background-color: #d4ebff;}#sk-container-id-6 div.sk-parallel-item::after {content: \"\";width: 100%;border-bottom: 1px solid gray;flex-grow: 1;}#sk-container-id-6 div.sk-label:hover label.sk-toggleable__label {background-color: #d4ebff;}#sk-container-id-6 div.sk-serial::before {content: \"\";position: absolute;border-left: 1px solid gray;box-sizing: border-box;top: 0;bottom: 0;left: 50%;z-index: 0;}#sk-container-id-6 div.sk-serial {display: flex;flex-direction: column;align-items: center;background-color: white;padding-right: 0.2em;padding-left: 0.2em;position: relative;}#sk-container-id-6 div.sk-item {position: relative;z-index: 1;}#sk-container-id-6 div.sk-parallel {display: flex;align-items: stretch;justify-content: center;background-color: white;position: relative;}#sk-container-id-6 div.sk-item::before, #sk-container-id-6 div.sk-parallel-item::before {content: \"\";position: absolute;border-left: 1px solid gray;box-sizing: border-box;top: 0;bottom: 0;left: 50%;z-index: -1;}#sk-container-id-6 div.sk-parallel-item {display: flex;flex-direction: column;z-index: 1;position: relative;background-color: white;}#sk-container-id-6 div.sk-parallel-item:first-child::after {align-self: flex-end;width: 50%;}#sk-container-id-6 div.sk-parallel-item:last-child::after {align-self: flex-start;width: 50%;}#sk-container-id-6 div.sk-parallel-item:only-child::after {width: 0;}#sk-container-id-6 div.sk-dashed-wrapped {border: 1px dashed gray;margin: 0 0.4em 0.5em 0.4em;box-sizing: border-box;padding-bottom: 0.4em;background-color: white;}#sk-container-id-6 div.sk-label label {font-family: monospace;font-weight: bold;display: inline-block;line-height: 1.2em;}#sk-container-id-6 div.sk-label-container {text-align: center;}#sk-container-id-6 div.sk-container {/* jupyter's `normalize.less` sets `[hidden] { display: none; }` but bootstrap.min.css set `[hidden] { display: none !important; }` so we also need the `!important` here to be able to override the default hidden behavior on the sphinx rendered scikit-learn.org. See: https://github.com/scikit-learn/scikit-learn/issues/21755 */display: inline-block !important;position: relative;}#sk-container-id-6 div.sk-text-repr-fallback {display: none;}</style><div id=\"sk-container-id-6\" class=\"sk-top-container\"><div class=\"sk-text-repr-fallback\"><pre>SVC(probability=True)</pre><b>In a Jupyter environment, please rerun this cell to show the HTML representation or trust the notebook. <br />On GitHub, the HTML representation is unable to render, please try loading this page with nbviewer.org.</b></div><div class=\"sk-container\" hidden><div class=\"sk-item\"><div class=\"sk-estimator sk-toggleable\"><input class=\"sk-toggleable__control sk-hidden--visually\" id=\"sk-estimator-id-6\" type=\"checkbox\" checked><label for=\"sk-estimator-id-6\" class=\"sk-toggleable__label sk-toggleable__label-arrow\">SVC</label><div class=\"sk-toggleable__content\"><pre>SVC(probability=True)</pre></div></div></div></div></div>"
      ],
      "text/plain": [
       "SVC(probability=True)"
      ]
     },
     "execution_count": 50,
     "metadata": {},
     "output_type": "execute_result"
    }
   ],
   "source": [
    "svc.fit(combined_df[features], combined_df['churn30'])"
   ]
  },
  {
   "cell_type": "code",
   "execution_count": 51,
   "id": "9b3d006f-83e8-4b73-a94c-cb7082e9e70b",
   "metadata": {
    "tags": []
   },
   "outputs": [
    {
     "data": {
      "text/html": [
       "<style>#sk-container-id-7 {color: black;}#sk-container-id-7 pre{padding: 0;}#sk-container-id-7 div.sk-toggleable {background-color: white;}#sk-container-id-7 label.sk-toggleable__label {cursor: pointer;display: block;width: 100%;margin-bottom: 0;padding: 0.3em;box-sizing: border-box;text-align: center;}#sk-container-id-7 label.sk-toggleable__label-arrow:before {content: \"▸\";float: left;margin-right: 0.25em;color: #696969;}#sk-container-id-7 label.sk-toggleable__label-arrow:hover:before {color: black;}#sk-container-id-7 div.sk-estimator:hover label.sk-toggleable__label-arrow:before {color: black;}#sk-container-id-7 div.sk-toggleable__content {max-height: 0;max-width: 0;overflow: hidden;text-align: left;background-color: #f0f8ff;}#sk-container-id-7 div.sk-toggleable__content pre {margin: 0.2em;color: black;border-radius: 0.25em;background-color: #f0f8ff;}#sk-container-id-7 input.sk-toggleable__control:checked~div.sk-toggleable__content {max-height: 200px;max-width: 100%;overflow: auto;}#sk-container-id-7 input.sk-toggleable__control:checked~label.sk-toggleable__label-arrow:before {content: \"▾\";}#sk-container-id-7 div.sk-estimator input.sk-toggleable__control:checked~label.sk-toggleable__label {background-color: #d4ebff;}#sk-container-id-7 div.sk-label input.sk-toggleable__control:checked~label.sk-toggleable__label {background-color: #d4ebff;}#sk-container-id-7 input.sk-hidden--visually {border: 0;clip: rect(1px 1px 1px 1px);clip: rect(1px, 1px, 1px, 1px);height: 1px;margin: -1px;overflow: hidden;padding: 0;position: absolute;width: 1px;}#sk-container-id-7 div.sk-estimator {font-family: monospace;background-color: #f0f8ff;border: 1px dotted black;border-radius: 0.25em;box-sizing: border-box;margin-bottom: 0.5em;}#sk-container-id-7 div.sk-estimator:hover {background-color: #d4ebff;}#sk-container-id-7 div.sk-parallel-item::after {content: \"\";width: 100%;border-bottom: 1px solid gray;flex-grow: 1;}#sk-container-id-7 div.sk-label:hover label.sk-toggleable__label {background-color: #d4ebff;}#sk-container-id-7 div.sk-serial::before {content: \"\";position: absolute;border-left: 1px solid gray;box-sizing: border-box;top: 0;bottom: 0;left: 50%;z-index: 0;}#sk-container-id-7 div.sk-serial {display: flex;flex-direction: column;align-items: center;background-color: white;padding-right: 0.2em;padding-left: 0.2em;position: relative;}#sk-container-id-7 div.sk-item {position: relative;z-index: 1;}#sk-container-id-7 div.sk-parallel {display: flex;align-items: stretch;justify-content: center;background-color: white;position: relative;}#sk-container-id-7 div.sk-item::before, #sk-container-id-7 div.sk-parallel-item::before {content: \"\";position: absolute;border-left: 1px solid gray;box-sizing: border-box;top: 0;bottom: 0;left: 50%;z-index: -1;}#sk-container-id-7 div.sk-parallel-item {display: flex;flex-direction: column;z-index: 1;position: relative;background-color: white;}#sk-container-id-7 div.sk-parallel-item:first-child::after {align-self: flex-end;width: 50%;}#sk-container-id-7 div.sk-parallel-item:last-child::after {align-self: flex-start;width: 50%;}#sk-container-id-7 div.sk-parallel-item:only-child::after {width: 0;}#sk-container-id-7 div.sk-dashed-wrapped {border: 1px dashed gray;margin: 0 0.4em 0.5em 0.4em;box-sizing: border-box;padding-bottom: 0.4em;background-color: white;}#sk-container-id-7 div.sk-label label {font-family: monospace;font-weight: bold;display: inline-block;line-height: 1.2em;}#sk-container-id-7 div.sk-label-container {text-align: center;}#sk-container-id-7 div.sk-container {/* jupyter's `normalize.less` sets `[hidden] { display: none; }` but bootstrap.min.css set `[hidden] { display: none !important; }` so we also need the `!important` here to be able to override the default hidden behavior on the sphinx rendered scikit-learn.org. See: https://github.com/scikit-learn/scikit-learn/issues/21755 */display: inline-block !important;position: relative;}#sk-container-id-7 div.sk-text-repr-fallback {display: none;}</style><div id=\"sk-container-id-7\" class=\"sk-top-container\"><div class=\"sk-text-repr-fallback\"><pre>DecisionTreeClassifier()</pre><b>In a Jupyter environment, please rerun this cell to show the HTML representation or trust the notebook. <br />On GitHub, the HTML representation is unable to render, please try loading this page with nbviewer.org.</b></div><div class=\"sk-container\" hidden><div class=\"sk-item\"><div class=\"sk-estimator sk-toggleable\"><input class=\"sk-toggleable__control sk-hidden--visually\" id=\"sk-estimator-id-7\" type=\"checkbox\" checked><label for=\"sk-estimator-id-7\" class=\"sk-toggleable__label sk-toggleable__label-arrow\">DecisionTreeClassifier</label><div class=\"sk-toggleable__content\"><pre>DecisionTreeClassifier()</pre></div></div></div></div></div>"
      ],
      "text/plain": [
       "DecisionTreeClassifier()"
      ]
     },
     "execution_count": 51,
     "metadata": {},
     "output_type": "execute_result"
    }
   ],
   "source": [
    "cld.fit(combined_df[features], combined_df['churn30'])"
   ]
  },
  {
   "cell_type": "code",
   "execution_count": 52,
   "id": "e655968c-79ad-4f04-946f-ff2b95e0b202",
   "metadata": {
    "tags": []
   },
   "outputs": [
    {
     "data": {
      "text/html": [
       "<style>#sk-container-id-8 {color: black;}#sk-container-id-8 pre{padding: 0;}#sk-container-id-8 div.sk-toggleable {background-color: white;}#sk-container-id-8 label.sk-toggleable__label {cursor: pointer;display: block;width: 100%;margin-bottom: 0;padding: 0.3em;box-sizing: border-box;text-align: center;}#sk-container-id-8 label.sk-toggleable__label-arrow:before {content: \"▸\";float: left;margin-right: 0.25em;color: #696969;}#sk-container-id-8 label.sk-toggleable__label-arrow:hover:before {color: black;}#sk-container-id-8 div.sk-estimator:hover label.sk-toggleable__label-arrow:before {color: black;}#sk-container-id-8 div.sk-toggleable__content {max-height: 0;max-width: 0;overflow: hidden;text-align: left;background-color: #f0f8ff;}#sk-container-id-8 div.sk-toggleable__content pre {margin: 0.2em;color: black;border-radius: 0.25em;background-color: #f0f8ff;}#sk-container-id-8 input.sk-toggleable__control:checked~div.sk-toggleable__content {max-height: 200px;max-width: 100%;overflow: auto;}#sk-container-id-8 input.sk-toggleable__control:checked~label.sk-toggleable__label-arrow:before {content: \"▾\";}#sk-container-id-8 div.sk-estimator input.sk-toggleable__control:checked~label.sk-toggleable__label {background-color: #d4ebff;}#sk-container-id-8 div.sk-label input.sk-toggleable__control:checked~label.sk-toggleable__label {background-color: #d4ebff;}#sk-container-id-8 input.sk-hidden--visually {border: 0;clip: rect(1px 1px 1px 1px);clip: rect(1px, 1px, 1px, 1px);height: 1px;margin: -1px;overflow: hidden;padding: 0;position: absolute;width: 1px;}#sk-container-id-8 div.sk-estimator {font-family: monospace;background-color: #f0f8ff;border: 1px dotted black;border-radius: 0.25em;box-sizing: border-box;margin-bottom: 0.5em;}#sk-container-id-8 div.sk-estimator:hover {background-color: #d4ebff;}#sk-container-id-8 div.sk-parallel-item::after {content: \"\";width: 100%;border-bottom: 1px solid gray;flex-grow: 1;}#sk-container-id-8 div.sk-label:hover label.sk-toggleable__label {background-color: #d4ebff;}#sk-container-id-8 div.sk-serial::before {content: \"\";position: absolute;border-left: 1px solid gray;box-sizing: border-box;top: 0;bottom: 0;left: 50%;z-index: 0;}#sk-container-id-8 div.sk-serial {display: flex;flex-direction: column;align-items: center;background-color: white;padding-right: 0.2em;padding-left: 0.2em;position: relative;}#sk-container-id-8 div.sk-item {position: relative;z-index: 1;}#sk-container-id-8 div.sk-parallel {display: flex;align-items: stretch;justify-content: center;background-color: white;position: relative;}#sk-container-id-8 div.sk-item::before, #sk-container-id-8 div.sk-parallel-item::before {content: \"\";position: absolute;border-left: 1px solid gray;box-sizing: border-box;top: 0;bottom: 0;left: 50%;z-index: -1;}#sk-container-id-8 div.sk-parallel-item {display: flex;flex-direction: column;z-index: 1;position: relative;background-color: white;}#sk-container-id-8 div.sk-parallel-item:first-child::after {align-self: flex-end;width: 50%;}#sk-container-id-8 div.sk-parallel-item:last-child::after {align-self: flex-start;width: 50%;}#sk-container-id-8 div.sk-parallel-item:only-child::after {width: 0;}#sk-container-id-8 div.sk-dashed-wrapped {border: 1px dashed gray;margin: 0 0.4em 0.5em 0.4em;box-sizing: border-box;padding-bottom: 0.4em;background-color: white;}#sk-container-id-8 div.sk-label label {font-family: monospace;font-weight: bold;display: inline-block;line-height: 1.2em;}#sk-container-id-8 div.sk-label-container {text-align: center;}#sk-container-id-8 div.sk-container {/* jupyter's `normalize.less` sets `[hidden] { display: none; }` but bootstrap.min.css set `[hidden] { display: none !important; }` so we also need the `!important` here to be able to override the default hidden behavior on the sphinx rendered scikit-learn.org. See: https://github.com/scikit-learn/scikit-learn/issues/21755 */display: inline-block !important;position: relative;}#sk-container-id-8 div.sk-text-repr-fallback {display: none;}</style><div id=\"sk-container-id-8\" class=\"sk-top-container\"><div class=\"sk-text-repr-fallback\"><pre>RandomForestClassifier()</pre><b>In a Jupyter environment, please rerun this cell to show the HTML representation or trust the notebook. <br />On GitHub, the HTML representation is unable to render, please try loading this page with nbviewer.org.</b></div><div class=\"sk-container\" hidden><div class=\"sk-item\"><div class=\"sk-estimator sk-toggleable\"><input class=\"sk-toggleable__control sk-hidden--visually\" id=\"sk-estimator-id-8\" type=\"checkbox\" checked><label for=\"sk-estimator-id-8\" class=\"sk-toggleable__label sk-toggleable__label-arrow\">RandomForestClassifier</label><div class=\"sk-toggleable__content\"><pre>RandomForestClassifier()</pre></div></div></div></div></div>"
      ],
      "text/plain": [
       "RandomForestClassifier()"
      ]
     },
     "execution_count": 52,
     "metadata": {},
     "output_type": "execute_result"
    }
   ],
   "source": [
    "clc.fit(combined_df[features], combined_df['churn30'])"
   ]
  },
  {
   "cell_type": "code",
   "execution_count": 53,
   "id": "5eb089dd-b230-4a95-b715-99270de603a7",
   "metadata": {
    "tags": []
   },
   "outputs": [],
   "source": [
    "# Create feature variable\n",
    "X = combined_df.drop('churn30', axis=1)\n",
    "\n",
    "# Create target variable\n",
    "y =  combined_df['churn30']\n",
    "X_train, X_test, y_train, y_test = train_test_split(X, y, test_size=0.3,random_state=42)"
   ]
  },
  {
   "cell_type": "code",
   "execution_count": 54,
   "id": "34a6f316-6273-4b75-9158-51d48f0f05b7",
   "metadata": {
    "tags": []
   },
   "outputs": [
    {
     "data": {
      "text/plain": [
       "7000"
      ]
     },
     "execution_count": 54,
     "metadata": {},
     "output_type": "execute_result"
    }
   ],
   "source": [
    "len(X_train)\n"
   ]
  },
  {
   "cell_type": "code",
   "execution_count": 55,
   "id": "096b1e2c-cd6f-40d8-a598-111e80d37baf",
   "metadata": {
    "tags": []
   },
   "outputs": [
    {
     "data": {
      "text/plain": [
       "3000"
      ]
     },
     "execution_count": 55,
     "metadata": {},
     "output_type": "execute_result"
    }
   ],
   "source": [
    "len(X_test)"
   ]
  },
  {
   "cell_type": "code",
   "execution_count": 61,
   "id": "88de4e7e-565b-4522-a892-ee480ba693c8",
   "metadata": {
    "tags": []
   },
   "outputs": [
    {
     "name": "stdout",
     "output_type": "stream",
     "text": [
      "0.7916666666666666\n",
      "0.6577777777777778\n",
      "0.5298329355608592\n"
     ]
    },
    {
     "data": {
      "image/png": "[encoded data removed]",
      "text/plain": [
       "<Figure size 640x480 with 1 Axes>"
      ]
     },
     "metadata": {},
     "output_type": "display_data"
    },
    {
     "name": "stdout",
     "output_type": "stream",
     "text": [
      "0.8452537206996968\n",
      "0.5869134170522141\n",
      "[[1931  231]\n",
      " [ 394  444]]\n"
     ]
    }
   ],
   "source": [
    "# Fit to the training data/RandomForestClassifier\n",
    "clc.fit(X_train, y_train)\n",
    "\n",
    "# Compute accuracy\n",
    "print(clc.score(X_test, y_test))\n",
    "y_pred_random = clc.predict(X_test)\n",
    "print(precision_score(y_test, y_pred_random))\n",
    "print(recall_score(y_test, y_pred_random))\n",
    "y_pred_prob_random = clc.predict_proba(X_test)[:, 1]\n",
    "fpr, tpr, thresholds = roc_curve(y_test, y_pred_prob_random)\n",
    "# Plot the ROC curve\n",
    "plt.plot(fpr, tpr)\n",
    "\n",
    "# Add labels and diagonal line\n",
    "plt.xlabel(\"False Positive Rate\")\n",
    "plt.ylabel(\"True Positive Rate\")\n",
    "plt.plot([0, 1], [0, 1], \"k--\")\n",
    "plt.show()\n",
    "# Print the AUC\n",
    "print(roc_auc_score(y_test, y_pred_prob_random))\n",
    "print(f1_score(y_test, y_pred_random))\n",
    "print(confusion_matrix(y_test, y_pred_random))"
   ]
  },
  {
   "cell_type": "code",
   "execution_count": 26,
   "id": "63b903b2-2832-4a56-98b7-be209bd25b4e",
   "metadata": {
    "tags": []
   },
   "outputs": [
    {
     "name": "stdout",
     "output_type": "stream",
     "text": [
      "0.7783333333333333\n",
      "0.6196403872752421\n",
      "0.5346062052505967\n"
     ]
    },
    {
     "data": {
      "image/png": "[encoded data removed]",
      "text/plain": [
       "<Figure size 640x480 with 1 Axes>"
      ]
     },
     "metadata": {},
     "output_type": "display_data"
    },
    {
     "name": "stdout",
     "output_type": "stream",
     "text": [
      "0.8375391057073911\n",
      "0.5739910313901345\n",
      "[[1887  275]\n",
      " [ 390  448]]\n"
     ]
    }
   ],
   "source": [
    "# Fit to the training data/LogisticRegression\n",
    "clf.fit(X_train, y_train)\n",
    "\n",
    "# Compute accuracy\n",
    "print(clf.score(X_test, y_test))\n",
    "y_pred_logistic = clf.predict(X_test)\n",
    "print(precision_score(y_test, y_pred_logistic))\n",
    "print(recall_score(y_test, y_pred_logistic))\n",
    "y_pred_prob_logistic = clf.predict_proba(X_test)[:, 1]\n",
    "fpr, tpr, thresholds = roc_curve(y_test, y_pred_prob_logistic)\n",
    "# Plot the ROC curve\n",
    "plt.plot(fpr, tpr)\n",
    "\n",
    "# Add labels and diagonal line\n",
    "plt.xlabel(\"False Positive Rate\")\n",
    "plt.ylabel(\"True Positive Rate\")\n",
    "plt.plot([0, 1], [0, 1], \"k--\")\n",
    "plt.show()\n",
    "# Print the AUC\n",
    "print(roc_auc_score(y_test, y_pred_prob_logistic))\n",
    "print(f1_score(y_test, y_pred_logistic))\n",
    "print(confusion_matrix(y_test, y_pred_logistic))"
   ]
  },
  {
   "cell_type": "code",
   "execution_count": 115,
   "id": "3e439fa1-86e6-4437-b462-9b79e728e75f",
   "metadata": {
    "tags": []
   },
   "outputs": [
    {
     "name": "stdout",
     "output_type": "stream",
     "text": [
      "0.732\n",
      "0.5191441441441441\n",
      "0.5501193317422435\n"
     ]
    },
    {
     "data": {
      "image/png": "[encoded data removed]",
      "text/plain": [
       "<Figure size 640x480 with 1 Axes>"
      ]
     },
     "metadata": {},
     "output_type": "display_data"
    },
    {
     "name": "stdout",
     "output_type": "stream",
     "text": [
      "0.6800454917770384\n",
      "0.5341830822711472\n",
      "[[1735  427]\n",
      " [ 377  461]]\n"
     ]
    }
   ],
   "source": [
    "# Fit to the training data/DecisionTreeClassifier\n",
    "cld.fit(X_train, y_train)\n",
    "\n",
    "# Compute accuracy\n",
    "print(cld.score(X_test, y_test))\n",
    "y_pred_decision = cld.predict(X_test)\n",
    "print(precision_score(y_test, y_pred_decision))\n",
    "print(recall_score(y_test, y_pred_decision))\n",
    "y_pred_prob_decision = cld.predict_proba(X_test)[:, 1]\n",
    "fpr, tpr, thresholds = roc_curve(y_test, y_pred_prob_decision)\n",
    "# Plot the ROC curve\n",
    "plt.plot(fpr, tpr)\n",
    "\n",
    "# Add labels and diagonal line\n",
    "plt.xlabel(\"False Positive Rate\")\n",
    "plt.ylabel(\"True Positive Rate\")\n",
    "plt.plot([0, 1], [0, 1], \"k--\")\n",
    "plt.show()\n",
    "# Print the AUC\n",
    "print(roc_auc_score(y_test, y_pred_prob_decision))\n",
    "print(f1_score(y_test, y_pred_decision))\n",
    "print(confusion_matrix(y_test, y_pred_decision))"
   ]
  },
  {
   "cell_type": "code",
   "execution_count": 116,
   "id": "8647145e-bfcf-49a5-a8ff-a8f39bc1383c",
   "metadata": {
    "tags": []
   },
   "outputs": [
    {
     "name": "stdout",
     "output_type": "stream",
     "text": [
      "0.791\n",
      "0.6435374149659864\n",
      "0.5644391408114559\n"
     ]
    },
    {
     "data": {
      "image/png": "[encoded data removed]",
      "text/plain": [
       "<Figure size 640x480 with 1 Axes>"
      ]
     },
     "metadata": {},
     "output_type": "display_data"
    },
    {
     "name": "stdout",
     "output_type": "stream",
     "text": [
      "0.8357767271089485\n",
      "0.6013986013986014\n",
      "[[1900  262]\n",
      " [ 365  473]]\n"
     ]
    }
   ],
   "source": [
    "# Fit to the training data/SVC\n",
    "svc.fit(X_train, y_train)\n",
    "\n",
    "# Compute accuracy\n",
    "print(svc.score(X_test, y_test))\n",
    "y_pred_svc =svc.predict(X_test)\n",
    "print(precision_score(y_test, y_pred_svc))\n",
    "print(recall_score(y_test, y_pred_svc))\n",
    "y_pred_prob_svc = svc.predict_proba(X_test)[:, 1]\n",
    "fpr, tpr, thresholds = roc_curve(y_test, y_pred_prob_svc)\n",
    "# Plot the ROC curve\n",
    "plt.plot(fpr, tpr)\n",
    "\n",
    "# Add labels and diagonal line\n",
    "plt.xlabel(\"False Positive Rate\")\n",
    "plt.ylabel(\"True Positive Rate\")\n",
    "plt.plot([0, 1], [0, 1], \"k--\")\n",
    "plt.show()\n",
    "# Print the AUC\n",
    "print(roc_auc_score(y_test, y_pred_prob_svc))\n",
    "print(f1_score(y_test, y_pred_svc))\n",
    "print(confusion_matrix(y_test, y_pred_svc))"
   ]
  },
  {
   "cell_type": "code",
   "execution_count": 123,
   "id": "9ebfec1c-3fd4-4d6b-823f-0bf04df669c7",
   "metadata": {
    "tags": []
   },
   "outputs": [
    {
     "data": {
      "image/png": "[encoded data removed]",
      "text/plain": [
       "<Figure size 640x480 with 1 Axes>"
      ]
     },
     "metadata": {},
     "output_type": "display_data"
    }
   ],
   "source": [
    "# Calculate feature importances/randomforestclassifier\n",
    "importances = clc.feature_importances_\n",
    "\n",
    "# Create plot\n",
    "plt.barh(range(X.shape[1]), importances)\n",
    "plt.show()"
   ]
  },
  {
   "cell_type": "code",
   "execution_count": 125,
   "id": "3a7509fa-2ded-4627-a01e-25a019e5faba",
   "metadata": {
    "tags": []
   },
   "outputs": [
    {
     "data": {
      "image/png": "[encoded data removed]",
      "text/plain": [
       "<Figure size 640x480 with 1 Axes>"
      ]
     },
     "metadata": {},
     "output_type": "display_data"
    }
   ],
   "source": [
    "# Calculate feature importances/decision\n",
    "importances = cld.feature_importances_\n",
    "\n",
    "# Create plot\n",
    "plt.barh(range(X.shape[1]), importances)\n",
    "plt.show()"
   ]
  },
  {
   "cell_type": "code",
   "execution_count": 136,
   "id": "f7ef7ebd-d3be-4c81-b2d3-05c938c8820a",
   "metadata": {
    "tags": []
   },
   "outputs": [
    {
     "data": {
      "image/png": "[encoded data removed]",
      "text/plain": [
       "<Figure size 640x480 with 1 Axes>"
      ]
     },
     "metadata": {},
     "output_type": "display_data"
    }
   ],
   "source": [
    "sorted_index = np.argsort(importances)\n",
    "\n",
    "\n",
    "top_10_importances = importances[sorted_index][-5:]\n",
    "top_10_labels = X.columns[sorted_index][-5:]\n",
    "\n",
    "# Clear current plot\n",
    "plt.clf()\n",
    "\n",
    "\n",
    "plt.barh(range(len(top_10_importances)), top_10_importances, tick_label=top_10_labels)\n",
    "plt.xlabel('Importance')\n",
    "plt.title('Top 5 Feature Importances')\n",
    "plt.show()"
   ]
  },
  {
   "cell_type": "code",
   "execution_count": null,
   "id": "158f8056-d463-4c74-8813-cc575703a18a",
   "metadata": {},
   "outputs": [],
   "source": []
  }
 ],
 "metadata": {
  "kernelspec": {
   "display_name": "Python 3 (ipykernel)",
   "language": "python",
   "name": "python3"
  },
  "language_info": {
   "codemirror_mode": {
    "name": "ipython",
    "version": 3
   },
   "file_extension": ".py",
   "mimetype": "text/x-python",
   "name": "python",
   "nbconvert_exporter": "python",
   "pygments_lexer": "ipython3",
   "version": "3.10.11"
  }
 },
 "nbformat": 4,
 "nbformat_minor": 5
}
