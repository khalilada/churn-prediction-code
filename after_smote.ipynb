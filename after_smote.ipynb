{
 "cells": [
  {
   "cell_type": "code",
   "execution_count": 1,
   "id": "f187e22a-bf74-4ec2-b429-b509118d389d",
   "metadata": {
    "tags": []
   },
   "outputs": [],
   "source": [
    "import pandas as pd\n",
    "import numpy as np\n",
    "import seaborn as sns\n",
    "import matplotlib.pyplot as plt\n",
    "from sklearn.preprocessing import StandardScaler\n",
    "from sklearn.svm import SVC\n",
    "from sklearn.linear_model import LogisticRegression\n",
    "from sklearn.tree import DecisionTreeClassifier\n",
    "from sklearn.ensemble import RandomForestClassifier\n",
    "from sklearn.model_selection import train_test_split\n",
    "from sklearn.metrics import confusion_matrix\n",
    "from sklearn.metrics import precision_score\n",
    "from sklearn.metrics import recall_score\n",
    "from sklearn.metrics import roc_curve\n",
    "from sklearn.metrics import roc_auc_score\n",
    "from sklearn.metrics import f1_score\n",
    "from sklearn.model_selection import GridSearchCV\n",
    "from sklearn.metrics import accuracy_score\n",
    "from imblearn.over_sampling import SMOTE"
   ]
  },
  {
   "cell_type": "code",
   "execution_count": 3,
   "id": "6b2df26d-912d-45d0-a312-22623eca3be3",
   "metadata": {
    "tags": []
   },
   "outputs": [],
   "source": [
    "df = pd.read_csv(r\"C:\\Users\\Khalil.hasanov\\Desktop\\my theis\\churn30 thesis sample.csv\")\n"
   ]
  },
  {
   "cell_type": "code",
   "execution_count": 4,
   "id": "25afc4cf-581e-4d33-a60a-17ab53fe88c4",
   "metadata": {
    "tags": []
   },
   "outputs": [
    {
     "data": {
      "text/plain": [
       "churn30\n",
       "0    7237\n",
       "1    2763\n",
       "Name: count, dtype: int64"
      ]
     },
     "execution_count": 4,
     "metadata": {},
     "output_type": "execute_result"
    }
   ],
   "source": [
    "df[\"churn30\"].value_counts()"
   ]
  },
  {
   "cell_type": "code",
   "execution_count": 5,
   "id": "4ab317d3-179a-4780-8808-f38fa674598e",
   "metadata": {
    "tags": []
   },
   "outputs": [
    {
     "data": {
      "text/html": [
       "<div>\n",
       "<style scoped>\n",
       "    .dataframe tbody tr th:only-of-type {\n",
       "        vertical-align: middle;\n",
       "    }\n",
       "\n",
       "    .dataframe tbody tr th {\n",
       "        vertical-align: top;\n",
       "    }\n",
       "\n",
       "    .dataframe thead th {\n",
       "        text-align: right;\n",
       "    }\n",
       "</style>\n",
       "<table border=\"1\" class=\"dataframe\">\n",
       "  <thead>\n",
       "    <tr style=\"text-align: right;\">\n",
       "      <th></th>\n",
       "      <th>Million_bonus</th>\n",
       "      <th>Retention_bonus2</th>\n",
       "      <th>Welcome+Retention2_bonus</th>\n",
       "      <th>Welcome_bonus</th>\n",
       "      <th>no_bonus</th>\n",
       "    </tr>\n",
       "  </thead>\n",
       "  <tbody>\n",
       "    <tr>\n",
       "      <th>0</th>\n",
       "      <td>0</td>\n",
       "      <td>0</td>\n",
       "      <td>0</td>\n",
       "      <td>0</td>\n",
       "      <td>1</td>\n",
       "    </tr>\n",
       "    <tr>\n",
       "      <th>1</th>\n",
       "      <td>0</td>\n",
       "      <td>0</td>\n",
       "      <td>0</td>\n",
       "      <td>0</td>\n",
       "      <td>1</td>\n",
       "    </tr>\n",
       "    <tr>\n",
       "      <th>2</th>\n",
       "      <td>0</td>\n",
       "      <td>0</td>\n",
       "      <td>0</td>\n",
       "      <td>0</td>\n",
       "      <td>1</td>\n",
       "    </tr>\n",
       "    <tr>\n",
       "      <th>3</th>\n",
       "      <td>1</td>\n",
       "      <td>0</td>\n",
       "      <td>0</td>\n",
       "      <td>0</td>\n",
       "      <td>0</td>\n",
       "    </tr>\n",
       "    <tr>\n",
       "      <th>4</th>\n",
       "      <td>1</td>\n",
       "      <td>0</td>\n",
       "      <td>0</td>\n",
       "      <td>0</td>\n",
       "      <td>0</td>\n",
       "    </tr>\n",
       "  </tbody>\n",
       "</table>\n",
       "</div>"
      ],
      "text/plain": [
       "   Million_bonus  Retention_bonus2  Welcome+Retention2_bonus  Welcome_bonus  \\\n",
       "0              0                 0                         0              0   \n",
       "1              0                 0                         0              0   \n",
       "2              0                 0                         0              0   \n",
       "3              1                 0                         0              0   \n",
       "4              1                 0                         0              0   \n",
       "\n",
       "   no_bonus  \n",
       "0         1  \n",
       "1         1  \n",
       "2         1  \n",
       "3         0  \n",
       "4         0  "
      ]
     },
     "execution_count": 5,
     "metadata": {},
     "output_type": "execute_result"
    }
   ],
   "source": [
    "df_bonus_segment = pd.get_dummies(df[\"bonus_segment\"])\n",
    "\n",
    "df_bonus_segment= df_bonus_segment.replace({False: 0,True: 1})\n",
    "df_bonus_segment.head()"
   ]
  },
  {
   "cell_type": "code",
   "execution_count": 6,
   "id": "f9d5af50-176e-4809-9345-03e75ce26d3e",
   "metadata": {
    "tags": []
   },
   "outputs": [
    {
     "data": {
      "text/html": [
       "<div>\n",
       "<style scoped>\n",
       "    .dataframe tbody tr th:only-of-type {\n",
       "        vertical-align: middle;\n",
       "    }\n",
       "\n",
       "    .dataframe tbody tr th {\n",
       "        vertical-align: top;\n",
       "    }\n",
       "\n",
       "    .dataframe thead th {\n",
       "        text-align: right;\n",
       "    }\n",
       "</style>\n",
       "<table border=\"1\" class=\"dataframe\">\n",
       "  <thead>\n",
       "    <tr style=\"text-align: right;\">\n",
       "      <th></th>\n",
       "      <th>Apple Search Ads</th>\n",
       "      <th>Facebook Ads</th>\n",
       "      <th>Google Ads</th>\n",
       "      <th>Influencers</th>\n",
       "      <th>MilliON</th>\n",
       "      <th>Organic</th>\n",
       "      <th>Others</th>\n",
       "      <th>QR_code</th>\n",
       "      <th>Referral</th>\n",
       "      <th>SMS</th>\n",
       "      <th>landing_page</th>\n",
       "    </tr>\n",
       "  </thead>\n",
       "  <tbody>\n",
       "    <tr>\n",
       "      <th>0</th>\n",
       "      <td>0</td>\n",
       "      <td>0</td>\n",
       "      <td>1</td>\n",
       "      <td>0</td>\n",
       "      <td>0</td>\n",
       "      <td>0</td>\n",
       "      <td>0</td>\n",
       "      <td>0</td>\n",
       "      <td>0</td>\n",
       "      <td>0</td>\n",
       "      <td>0</td>\n",
       "    </tr>\n",
       "    <tr>\n",
       "      <th>1</th>\n",
       "      <td>0</td>\n",
       "      <td>0</td>\n",
       "      <td>0</td>\n",
       "      <td>0</td>\n",
       "      <td>0</td>\n",
       "      <td>0</td>\n",
       "      <td>0</td>\n",
       "      <td>0</td>\n",
       "      <td>0</td>\n",
       "      <td>0</td>\n",
       "      <td>1</td>\n",
       "    </tr>\n",
       "    <tr>\n",
       "      <th>2</th>\n",
       "      <td>0</td>\n",
       "      <td>0</td>\n",
       "      <td>1</td>\n",
       "      <td>0</td>\n",
       "      <td>0</td>\n",
       "      <td>0</td>\n",
       "      <td>0</td>\n",
       "      <td>0</td>\n",
       "      <td>0</td>\n",
       "      <td>0</td>\n",
       "      <td>0</td>\n",
       "    </tr>\n",
       "    <tr>\n",
       "      <th>3</th>\n",
       "      <td>0</td>\n",
       "      <td>0</td>\n",
       "      <td>0</td>\n",
       "      <td>0</td>\n",
       "      <td>0</td>\n",
       "      <td>0</td>\n",
       "      <td>1</td>\n",
       "      <td>0</td>\n",
       "      <td>0</td>\n",
       "      <td>0</td>\n",
       "      <td>0</td>\n",
       "    </tr>\n",
       "    <tr>\n",
       "      <th>4</th>\n",
       "      <td>0</td>\n",
       "      <td>0</td>\n",
       "      <td>0</td>\n",
       "      <td>0</td>\n",
       "      <td>0</td>\n",
       "      <td>0</td>\n",
       "      <td>1</td>\n",
       "      <td>0</td>\n",
       "      <td>0</td>\n",
       "      <td>0</td>\n",
       "      <td>0</td>\n",
       "    </tr>\n",
       "  </tbody>\n",
       "</table>\n",
       "</div>"
      ],
      "text/plain": [
       "   Apple Search Ads  Facebook Ads  Google Ads  Influencers  MilliON  Organic  \\\n",
       "0                 0             0           1            0        0        0   \n",
       "1                 0             0           0            0        0        0   \n",
       "2                 0             0           1            0        0        0   \n",
       "3                 0             0           0            0        0        0   \n",
       "4                 0             0           0            0        0        0   \n",
       "\n",
       "   Others  QR_code  Referral  SMS  landing_page  \n",
       "0       0        0         0    0             0  \n",
       "1       0        0         0    0             1  \n",
       "2       0        0         0    0             0  \n",
       "3       1        0         0    0             0  \n",
       "4       1        0         0    0             0  "
      ]
     },
     "execution_count": 6,
     "metadata": {},
     "output_type": "execute_result"
    }
   ],
   "source": [
    "df_source_group = pd.get_dummies(df[\"source_group\"])\n",
    "\n",
    "df_source_group= df_source_group.replace({False: 0,True: 1})\n",
    "df_source_group.head()"
   ]
  },
  {
   "cell_type": "code",
   "execution_count": 7,
   "id": "381a74ac-2153-454d-bdc8-171340012501",
   "metadata": {
    "tags": []
   },
   "outputs": [
    {
     "data": {
      "text/html": [
       "<div>\n",
       "<style scoped>\n",
       "    .dataframe tbody tr th:only-of-type {\n",
       "        vertical-align: middle;\n",
       "    }\n",
       "\n",
       "    .dataframe tbody tr th {\n",
       "        vertical-align: top;\n",
       "    }\n",
       "\n",
       "    .dataframe thead th {\n",
       "        text-align: right;\n",
       "    }\n",
       "</style>\n",
       "<table border=\"1\" class=\"dataframe\">\n",
       "  <thead>\n",
       "    <tr style=\"text-align: right;\">\n",
       "      <th></th>\n",
       "      <th>120-180day</th>\n",
       "      <th>180-270day</th>\n",
       "      <th>270day+</th>\n",
       "      <th>31-60day</th>\n",
       "      <th>60-90day</th>\n",
       "      <th>90-120day</th>\n",
       "    </tr>\n",
       "  </thead>\n",
       "  <tbody>\n",
       "    <tr>\n",
       "      <th>0</th>\n",
       "      <td>0</td>\n",
       "      <td>0</td>\n",
       "      <td>1</td>\n",
       "      <td>0</td>\n",
       "      <td>0</td>\n",
       "      <td>0</td>\n",
       "    </tr>\n",
       "    <tr>\n",
       "      <th>1</th>\n",
       "      <td>0</td>\n",
       "      <td>1</td>\n",
       "      <td>0</td>\n",
       "      <td>0</td>\n",
       "      <td>0</td>\n",
       "      <td>0</td>\n",
       "    </tr>\n",
       "    <tr>\n",
       "      <th>2</th>\n",
       "      <td>0</td>\n",
       "      <td>0</td>\n",
       "      <td>1</td>\n",
       "      <td>0</td>\n",
       "      <td>0</td>\n",
       "      <td>0</td>\n",
       "    </tr>\n",
       "    <tr>\n",
       "      <th>3</th>\n",
       "      <td>0</td>\n",
       "      <td>0</td>\n",
       "      <td>1</td>\n",
       "      <td>0</td>\n",
       "      <td>0</td>\n",
       "      <td>0</td>\n",
       "    </tr>\n",
       "    <tr>\n",
       "      <th>4</th>\n",
       "      <td>0</td>\n",
       "      <td>0</td>\n",
       "      <td>1</td>\n",
       "      <td>0</td>\n",
       "      <td>0</td>\n",
       "      <td>0</td>\n",
       "    </tr>\n",
       "  </tbody>\n",
       "</table>\n",
       "</div>"
      ],
      "text/plain": [
       "   120-180day  180-270day  270day+  31-60day  60-90day  90-120day\n",
       "0           0           0        1         0         0          0\n",
       "1           0           1        0         0         0          0\n",
       "2           0           0        1         0         0          0\n",
       "3           0           0        1         0         0          0\n",
       "4           0           0        1         0         0          0"
      ]
     },
     "execution_count": 7,
     "metadata": {},
     "output_type": "execute_result"
    }
   ],
   "source": [
    "df_tenure_range = pd.get_dummies(df[\"tenure_range\"])\n",
    "\n",
    "df_tenure_range= df_tenure_range.replace({False: 0,True: 1})\n",
    "df_tenure_range.head()"
   ]
  },
  {
   "cell_type": "code",
   "execution_count": 8,
   "id": "d9ed69de-3927-4d75-9f3c-a9a128bb657e",
   "metadata": {
    "tags": []
   },
   "outputs": [
    {
     "data": {
      "text/html": [
       "<div>\n",
       "<style scoped>\n",
       "    .dataframe tbody tr th:only-of-type {\n",
       "        vertical-align: middle;\n",
       "    }\n",
       "\n",
       "    .dataframe tbody tr th {\n",
       "        vertical-align: top;\n",
       "    }\n",
       "\n",
       "    .dataframe thead th {\n",
       "        text-align: right;\n",
       "    }\n",
       "</style>\n",
       "<table border=\"1\" class=\"dataframe\">\n",
       "  <thead>\n",
       "    <tr style=\"text-align: right;\">\n",
       "      <th></th>\n",
       "      <th>app_removed</th>\n",
       "      <th>churn30</th>\n",
       "    </tr>\n",
       "  </thead>\n",
       "  <tbody>\n",
       "    <tr>\n",
       "      <th>0</th>\n",
       "      <td>0</td>\n",
       "      <td>0</td>\n",
       "    </tr>\n",
       "    <tr>\n",
       "      <th>1</th>\n",
       "      <td>0</td>\n",
       "      <td>0</td>\n",
       "    </tr>\n",
       "    <tr>\n",
       "      <th>2</th>\n",
       "      <td>1</td>\n",
       "      <td>1</td>\n",
       "    </tr>\n",
       "    <tr>\n",
       "      <th>3</th>\n",
       "      <td>0</td>\n",
       "      <td>0</td>\n",
       "    </tr>\n",
       "    <tr>\n",
       "      <th>4</th>\n",
       "      <td>0</td>\n",
       "      <td>0</td>\n",
       "    </tr>\n",
       "  </tbody>\n",
       "</table>\n",
       "</div>"
      ],
      "text/plain": [
       "   app_removed  churn30\n",
       "0            0        0\n",
       "1            0        0\n",
       "2            1        1\n",
       "3            0        0\n",
       "4            0        0"
      ]
     },
     "execution_count": 8,
     "metadata": {},
     "output_type": "execute_result"
    }
   ],
   "source": [
    "df_app_churn=df[[\"app_removed\",\"churn30\"]]\n",
    "df_app_churn.head()"
   ]
  },
  {
   "cell_type": "code",
   "execution_count": 9,
   "id": "142ff89f-e35c-40f3-9223-c26aac33eb24",
   "metadata": {
    "tags": []
   },
   "outputs": [
    {
     "data": {
      "text/html": [
       "<div>\n",
       "<style scoped>\n",
       "    .dataframe tbody tr th:only-of-type {\n",
       "        vertical-align: middle;\n",
       "    }\n",
       "\n",
       "    .dataframe tbody tr th {\n",
       "        vertical-align: top;\n",
       "    }\n",
       "\n",
       "    .dataframe thead th {\n",
       "        text-align: right;\n",
       "    }\n",
       "</style>\n",
       "<table border=\"1\" class=\"dataframe\">\n",
       "  <thead>\n",
       "    <tr style=\"text-align: right;\">\n",
       "      <th></th>\n",
       "      <th>act_days_30day</th>\n",
       "      <th>act_days_90day</th>\n",
       "      <th>act_days_180day</th>\n",
       "      <th>amount_30_W2W_in</th>\n",
       "      <th>tr_count_30_W2W_in</th>\n",
       "      <th>amount_30_W2W_out</th>\n",
       "      <th>tr_count_30_W2W_out</th>\n",
       "      <th>amount_30_C2W</th>\n",
       "      <th>tr_count_30_C2W</th>\n",
       "      <th>amount_30_W2C</th>\n",
       "      <th>...</th>\n",
       "      <th>amount_180_PB</th>\n",
       "      <th>tr_count_180_PB</th>\n",
       "      <th>amount_180_EntrPay</th>\n",
       "      <th>tr_count_180_EntrPay</th>\n",
       "      <th>amount_180_IN</th>\n",
       "      <th>tr_count_180_IN</th>\n",
       "      <th>amount_180_OUT</th>\n",
       "      <th>tr_count_180_OUT</th>\n",
       "      <th>amount_180_QR</th>\n",
       "      <th>tr_count_180_QR</th>\n",
       "    </tr>\n",
       "  </thead>\n",
       "  <tbody>\n",
       "    <tr>\n",
       "      <th>0</th>\n",
       "      <td>0.185039</td>\n",
       "      <td>-0.286303</td>\n",
       "      <td>-0.108502</td>\n",
       "      <td>-0.044824</td>\n",
       "      <td>0.015810</td>\n",
       "      <td>-0.046291</td>\n",
       "      <td>-0.088163</td>\n",
       "      <td>-0.203114</td>\n",
       "      <td>-0.290289</td>\n",
       "      <td>-0.162790</td>\n",
       "      <td>...</td>\n",
       "      <td>0.822033</td>\n",
       "      <td>0.492527</td>\n",
       "      <td>-0.027157</td>\n",
       "      <td>-0.03659</td>\n",
       "      <td>-0.075470</td>\n",
       "      <td>-0.034525</td>\n",
       "      <td>-0.071619</td>\n",
       "      <td>-0.044212</td>\n",
       "      <td>0.253660</td>\n",
       "      <td>0.42781</td>\n",
       "    </tr>\n",
       "    <tr>\n",
       "      <th>1</th>\n",
       "      <td>-0.684098</td>\n",
       "      <td>-0.778318</td>\n",
       "      <td>0.019956</td>\n",
       "      <td>-0.044728</td>\n",
       "      <td>-0.019911</td>\n",
       "      <td>-0.045511</td>\n",
       "      <td>-0.033590</td>\n",
       "      <td>-0.199208</td>\n",
       "      <td>-0.226753</td>\n",
       "      <td>-0.165815</td>\n",
       "      <td>...</td>\n",
       "      <td>-0.111390</td>\n",
       "      <td>-0.141764</td>\n",
       "      <td>-0.027157</td>\n",
       "      <td>-0.03659</td>\n",
       "      <td>-0.089335</td>\n",
       "      <td>-0.043844</td>\n",
       "      <td>-0.084440</td>\n",
       "      <td>0.066563</td>\n",
       "      <td>-0.086394</td>\n",
       "      <td>-0.16699</td>\n",
       "    </tr>\n",
       "    <tr>\n",
       "      <th>2</th>\n",
       "      <td>-0.684098</td>\n",
       "      <td>-0.040296</td>\n",
       "      <td>-0.622334</td>\n",
       "      <td>-0.045303</td>\n",
       "      <td>-0.091354</td>\n",
       "      <td>-0.046926</td>\n",
       "      <td>-0.088163</td>\n",
       "      <td>-0.207021</td>\n",
       "      <td>-0.353825</td>\n",
       "      <td>-0.165815</td>\n",
       "      <td>...</td>\n",
       "      <td>-0.111390</td>\n",
       "      <td>-0.141764</td>\n",
       "      <td>-0.027157</td>\n",
       "      <td>-0.03659</td>\n",
       "      <td>-0.096025</td>\n",
       "      <td>-0.127710</td>\n",
       "      <td>-0.091165</td>\n",
       "      <td>-0.228836</td>\n",
       "      <td>-0.086394</td>\n",
       "      <td>-0.16699</td>\n",
       "    </tr>\n",
       "    <tr>\n",
       "      <th>3</th>\n",
       "      <td>-0.828955</td>\n",
       "      <td>-0.778318</td>\n",
       "      <td>-0.558105</td>\n",
       "      <td>-0.045303</td>\n",
       "      <td>-0.091354</td>\n",
       "      <td>-0.047218</td>\n",
       "      <td>-0.197310</td>\n",
       "      <td>-0.207021</td>\n",
       "      <td>-0.353825</td>\n",
       "      <td>-0.165815</td>\n",
       "      <td>...</td>\n",
       "      <td>-0.111390</td>\n",
       "      <td>-0.141764</td>\n",
       "      <td>-0.027157</td>\n",
       "      <td>-0.03659</td>\n",
       "      <td>-0.095314</td>\n",
       "      <td>-0.118392</td>\n",
       "      <td>-0.091136</td>\n",
       "      <td>-0.210374</td>\n",
       "      <td>-0.086394</td>\n",
       "      <td>-0.16699</td>\n",
       "    </tr>\n",
       "    <tr>\n",
       "      <th>4</th>\n",
       "      <td>-0.394386</td>\n",
       "      <td>-0.696316</td>\n",
       "      <td>-0.365418</td>\n",
       "      <td>-0.045303</td>\n",
       "      <td>-0.091354</td>\n",
       "      <td>-0.047218</td>\n",
       "      <td>-0.197310</td>\n",
       "      <td>0.655428</td>\n",
       "      <td>0.345070</td>\n",
       "      <td>0.485190</td>\n",
       "      <td>...</td>\n",
       "      <td>-0.111390</td>\n",
       "      <td>-0.141764</td>\n",
       "      <td>-0.027157</td>\n",
       "      <td>-0.03659</td>\n",
       "      <td>-0.090075</td>\n",
       "      <td>-0.071799</td>\n",
       "      <td>-0.088961</td>\n",
       "      <td>-0.210374</td>\n",
       "      <td>-0.086394</td>\n",
       "      <td>-0.16699</td>\n",
       "    </tr>\n",
       "  </tbody>\n",
       "</table>\n",
       "<p>5 rows × 81 columns</p>\n",
       "</div>"
      ],
      "text/plain": [
       "   act_days_30day  act_days_90day  act_days_180day  amount_30_W2W_in  \\\n",
       "0        0.185039       -0.286303        -0.108502         -0.044824   \n",
       "1       -0.684098       -0.778318         0.019956         -0.044728   \n",
       "2       -0.684098       -0.040296        -0.622334         -0.045303   \n",
       "3       -0.828955       -0.778318        -0.558105         -0.045303   \n",
       "4       -0.394386       -0.696316        -0.365418         -0.045303   \n",
       "\n",
       "   tr_count_30_W2W_in  amount_30_W2W_out  tr_count_30_W2W_out  amount_30_C2W  \\\n",
       "0            0.015810          -0.046291            -0.088163      -0.203114   \n",
       "1           -0.019911          -0.045511            -0.033590      -0.199208   \n",
       "2           -0.091354          -0.046926            -0.088163      -0.207021   \n",
       "3           -0.091354          -0.047218            -0.197310      -0.207021   \n",
       "4           -0.091354          -0.047218            -0.197310       0.655428   \n",
       "\n",
       "   tr_count_30_C2W  amount_30_W2C  ...  amount_180_PB  tr_count_180_PB  \\\n",
       "0        -0.290289      -0.162790  ...       0.822033         0.492527   \n",
       "1        -0.226753      -0.165815  ...      -0.111390        -0.141764   \n",
       "2        -0.353825      -0.165815  ...      -0.111390        -0.141764   \n",
       "3        -0.353825      -0.165815  ...      -0.111390        -0.141764   \n",
       "4         0.345070       0.485190  ...      -0.111390        -0.141764   \n",
       "\n",
       "   amount_180_EntrPay  tr_count_180_EntrPay  amount_180_IN  tr_count_180_IN  \\\n",
       "0           -0.027157              -0.03659      -0.075470        -0.034525   \n",
       "1           -0.027157              -0.03659      -0.089335        -0.043844   \n",
       "2           -0.027157              -0.03659      -0.096025        -0.127710   \n",
       "3           -0.027157              -0.03659      -0.095314        -0.118392   \n",
       "4           -0.027157              -0.03659      -0.090075        -0.071799   \n",
       "\n",
       "   amount_180_OUT  tr_count_180_OUT  amount_180_QR  tr_count_180_QR  \n",
       "0       -0.071619         -0.044212       0.253660          0.42781  \n",
       "1       -0.084440          0.066563      -0.086394         -0.16699  \n",
       "2       -0.091165         -0.228836      -0.086394         -0.16699  \n",
       "3       -0.091136         -0.210374      -0.086394         -0.16699  \n",
       "4       -0.088961         -0.210374      -0.086394         -0.16699  \n",
       "\n",
       "[5 rows x 81 columns]"
      ]
     },
     "execution_count": 9,
     "metadata": {},
     "output_type": "execute_result"
    }
   ],
   "source": [
    "# Assuming df is your dataframe\n",
    "columns_to_remove = [\"bonus_segment\", \"source_group\", \"tenure_range\", \"churn30\", \"app_removed\"]\n",
    "df_prepare_scale = df.drop(columns=columns_to_remove)\n",
    "\n",
    "# Scale the data\n",
    "scaler = StandardScaler()\n",
    "df_scaled_values = scaler.fit_transform(df_prepare_scale)\n",
    "\n",
    "# Create a DataFrame with scaled values and original column names\n",
    "df_scaled = pd.DataFrame(df_scaled_values, columns=df_prepare_scale.columns)\n",
    "df_scaled.head()\n",
    "\n",
    "\n"
   ]
  },
  {
   "cell_type": "code",
   "execution_count": 10,
   "id": "69e9439f-abfd-490f-a69a-a1908bccb81e",
   "metadata": {
    "tags": []
   },
   "outputs": [
    {
     "name": "stdout",
     "output_type": "stream",
     "text": [
      "   Million_bonus  Retention_bonus2  Welcome+Retention2_bonus  Welcome_bonus  \\\n",
      "0              0                 0                         0              0   \n",
      "1              0                 0                         0              0   \n",
      "2              0                 0                         0              0   \n",
      "3              1                 0                         0              0   \n",
      "4              1                 0                         0              0   \n",
      "\n",
      "   no_bonus  Apple Search Ads  Facebook Ads  Google Ads  Influencers  MilliON  \\\n",
      "0         1                 0             0           1            0        0   \n",
      "1         1                 0             0           0            0        0   \n",
      "2         1                 0             0           1            0        0   \n",
      "3         0                 0             0           0            0        0   \n",
      "4         0                 0             0           0            0        0   \n",
      "\n",
      "   ...  amount_180_EntrPay  tr_count_180_EntrPay  amount_180_IN  \\\n",
      "0  ...           -0.027157              -0.03659      -0.075470   \n",
      "1  ...           -0.027157              -0.03659      -0.089335   \n",
      "2  ...           -0.027157              -0.03659      -0.096025   \n",
      "3  ...           -0.027157              -0.03659      -0.095314   \n",
      "4  ...           -0.027157              -0.03659      -0.090075   \n",
      "\n",
      "   tr_count_180_IN  amount_180_OUT  tr_count_180_OUT  amount_180_QR  \\\n",
      "0        -0.034525       -0.071619         -0.044212       0.253660   \n",
      "1        -0.043844       -0.084440          0.066563      -0.086394   \n",
      "2        -0.127710       -0.091165         -0.228836      -0.086394   \n",
      "3        -0.118392       -0.091136         -0.210374      -0.086394   \n",
      "4        -0.071799       -0.088961         -0.210374      -0.086394   \n",
      "\n",
      "   tr_count_180_QR  app_removed  churn30  \n",
      "0          0.42781            0        0  \n",
      "1         -0.16699            0        0  \n",
      "2         -0.16699            1        1  \n",
      "3         -0.16699            0        0  \n",
      "4         -0.16699            0        0  \n",
      "\n",
      "[5 rows x 105 columns]\n"
     ]
    }
   ],
   "source": [
    "combined_df = pd.concat([df_bonus_segment, df_source_group, df_tenure_range, df_scaled, df_app_churn], axis=1)\n",
    "\n",
    "# Print the combined DataFrame\n",
    "print(combined_df.head())"
   ]
  },
  {
   "cell_type": "code",
   "execution_count": 13,
   "id": "86dcaad3-e51b-4d37-9fbe-03a4c2589683",
   "metadata": {
    "tags": []
   },
   "outputs": [
    {
     "name": "stdout",
     "output_type": "stream",
     "text": [
      "Original class distribution:\n",
      "churn30\n",
      "0    7237\n",
      "1    2763\n",
      "Name: count, dtype: int64\n",
      "\n",
      "Resampled class distribution after SMOTE:\n",
      "churn30\n",
      "0    7237\n",
      "1    7237\n",
      "Name: count, dtype: int64\n",
      "\n",
      "Resampled DataFrame:\n",
      "       Million_bonus  Retention_bonus2  Welcome+Retention2_bonus  \\\n",
      "0                  0                 0                         0   \n",
      "1                  0                 0                         0   \n",
      "2                  0                 0                         0   \n",
      "3                  1                 0                         0   \n",
      "4                  1                 0                         0   \n",
      "...              ...               ...                       ...   \n",
      "14469              0                 0                         0   \n",
      "14470              0                 0                         0   \n",
      "14471              0                 0                         0   \n",
      "14472              0                 0                         0   \n",
      "14473              0                 0                         0   \n",
      "\n",
      "       Welcome_bonus  no_bonus  Apple Search Ads  Facebook Ads  Google Ads  \\\n",
      "0                  0         1                 0             0           1   \n",
      "1                  0         1                 0             0           0   \n",
      "2                  0         1                 0             0           1   \n",
      "3                  0         0                 0             0           0   \n",
      "4                  0         0                 0             0           0   \n",
      "...              ...       ...               ...           ...         ...   \n",
      "14469              0         1                 0             0           0   \n",
      "14470              0         1                 0             0           0   \n",
      "14471              0         1                 0             0           1   \n",
      "14472              0         1                 0             0           0   \n",
      "14473              0         1                 0             0           0   \n",
      "\n",
      "       Influencers  MilliON  ...  amount_180_EntrPay  tr_count_180_EntrPay  \\\n",
      "0                0        0  ...           -0.027157              -0.03659   \n",
      "1                0        0  ...           -0.027157              -0.03659   \n",
      "2                0        0  ...           -0.027157              -0.03659   \n",
      "3                0        0  ...           -0.027157              -0.03659   \n",
      "4                0        0  ...           -0.027157              -0.03659   \n",
      "...            ...      ...  ...                 ...                   ...   \n",
      "14469            0        0  ...           -0.027157              -0.03659   \n",
      "14470            0        0  ...           -0.027157              -0.03659   \n",
      "14471            0        0  ...           -0.027157              -0.03659   \n",
      "14472            0        0  ...           -0.027157              -0.03659   \n",
      "14473            0        0  ...           -0.027157              -0.03659   \n",
      "\n",
      "       amount_180_IN  tr_count_180_IN  amount_180_OUT  tr_count_180_OUT  \\\n",
      "0          -0.075470        -0.034525       -0.071619         -0.044212   \n",
      "1          -0.089335        -0.043844       -0.084440          0.066563   \n",
      "2          -0.096025        -0.127710       -0.091165         -0.228836   \n",
      "3          -0.095314        -0.118392       -0.091136         -0.210374   \n",
      "4          -0.090075        -0.071799       -0.088961         -0.210374   \n",
      "...              ...              ...             ...               ...   \n",
      "14469      -0.001895        -0.085715        0.003435         -0.120934   \n",
      "14470       0.010958        -0.086413        0.012986          0.021625   \n",
      "14471      -0.096025        -0.127710       -0.091165         -0.228836   \n",
      "14472      -0.096025        -0.127710       -0.091165         -0.228836   \n",
      "14473      -0.096025        -0.127710       -0.091165         -0.228836   \n",
      "\n",
      "       amount_180_QR  tr_count_180_QR  app_removed  churn30  \n",
      "0           0.253660          0.42781            0        0  \n",
      "1          -0.086394         -0.16699            0        0  \n",
      "2          -0.086394         -0.16699            1        1  \n",
      "3          -0.086394         -0.16699            0        0  \n",
      "4          -0.086394         -0.16699            0        0  \n",
      "...              ...              ...          ...      ...  \n",
      "14469      -0.086394         -0.16699            0        1  \n",
      "14470      -0.086394         -0.16699            0        1  \n",
      "14471      -0.086394         -0.16699            0        1  \n",
      "14472      -0.086394         -0.16699            0        1  \n",
      "14473      -0.086394         -0.16699            0        1  \n",
      "\n",
      "[14474 rows x 105 columns]\n"
     ]
    }
   ],
   "source": [
    "# Separate features and target variable\n",
    "X = combined_df.drop('churn30', axis=1)\n",
    "y = combined_df['churn30']\n",
    "\n",
    "# Apply SMOTE to oversample the minority class\n",
    "smote = SMOTE()\n",
    "X_resampled, y_resampled = smote.fit_resample(X, y)\n",
    "\n",
    "# Create a new DataFrame with the resampled data\n",
    "df_resampled = pd.concat([pd.DataFrame(X_resampled, columns=X.columns), pd.DataFrame(y_resampled, columns=['churn30'])], axis=1)\n",
    "\n",
    "print(\"Original class distribution:\")\n",
    "print(y.value_counts())\n",
    "\n",
    "print(\"\\nResampled class distribution after SMOTE:\")\n",
    "print(y_resampled.value_counts())\n",
    "\n",
    "print(\"\\nResampled DataFrame:\")\n",
    "print(df_resampled)"
   ]
  },
  {
   "cell_type": "code",
   "execution_count": 14,
   "id": "7c219e8a-0d22-4cf7-a443-96f0fa208373",
   "metadata": {
    "tags": []
   },
   "outputs": [],
   "source": [
    "svc = SVC(probability=True)\n",
    "clf = LogisticRegression(solver='liblinear')\n",
    "cld = DecisionTreeClassifier()\n",
    "clc = RandomForestClassifier()"
   ]
  },
  {
   "cell_type": "code",
   "execution_count": 20,
   "id": "dabaf2a1-e682-46fd-b550-2f335388be4a",
   "metadata": {
    "tags": []
   },
   "outputs": [
    {
     "name": "stdout",
     "output_type": "stream",
     "text": [
      "Index(['Million_bonus', 'Retention_bonus2', 'Welcome+Retention2_bonus',\n",
      "       'Welcome_bonus', 'no_bonus', 'Apple Search Ads', 'Facebook Ads',\n",
      "       'Google Ads', 'Influencers', 'MilliON',\n",
      "       ...\n",
      "       'tr_count_180_PB', 'amount_180_EntrPay', 'tr_count_180_EntrPay',\n",
      "       'amount_180_IN', 'tr_count_180_IN', 'amount_180_OUT',\n",
      "       'tr_count_180_OUT', 'amount_180_QR', 'tr_count_180_QR', 'app_removed'],\n",
      "      dtype='object', length=104)\n"
     ]
    }
   ],
   "source": [
    "# Get all column names except \"churn30\"\n",
    "all_columns_except_churn30 = df_resampled.columns[combined_df.columns != 'churn30']\n",
    "\n",
    "# Rename the array as \"features\"\n",
    "features = all_columns_except_churn30\n",
    "\n",
    "# Print the features array\n",
    "print(features)"
   ]
  },
  {
   "cell_type": "code",
   "execution_count": 21,
   "id": "c98040d6-6210-4a41-a62a-6479fa7769fd",
   "metadata": {
    "tags": []
   },
   "outputs": [
    {
     "data": {
      "text/html": [
       "<style>#sk-container-id-2 {color: black;}#sk-container-id-2 pre{padding: 0;}#sk-container-id-2 div.sk-toggleable {background-color: white;}#sk-container-id-2 label.sk-toggleable__label {cursor: pointer;display: block;width: 100%;margin-bottom: 0;padding: 0.3em;box-sizing: border-box;text-align: center;}#sk-container-id-2 label.sk-toggleable__label-arrow:before {content: \"▸\";float: left;margin-right: 0.25em;color: #696969;}#sk-container-id-2 label.sk-toggleable__label-arrow:hover:before {color: black;}#sk-container-id-2 div.sk-estimator:hover label.sk-toggleable__label-arrow:before {color: black;}#sk-container-id-2 div.sk-toggleable__content {max-height: 0;max-width: 0;overflow: hidden;text-align: left;background-color: #f0f8ff;}#sk-container-id-2 div.sk-toggleable__content pre {margin: 0.2em;color: black;border-radius: 0.25em;background-color: #f0f8ff;}#sk-container-id-2 input.sk-toggleable__control:checked~div.sk-toggleable__content {max-height: 200px;max-width: 100%;overflow: auto;}#sk-container-id-2 input.sk-toggleable__control:checked~label.sk-toggleable__label-arrow:before {content: \"▾\";}#sk-container-id-2 div.sk-estimator input.sk-toggleable__control:checked~label.sk-toggleable__label {background-color: #d4ebff;}#sk-container-id-2 div.sk-label input.sk-toggleable__control:checked~label.sk-toggleable__label {background-color: #d4ebff;}#sk-container-id-2 input.sk-hidden--visually {border: 0;clip: rect(1px 1px 1px 1px);clip: rect(1px, 1px, 1px, 1px);height: 1px;margin: -1px;overflow: hidden;padding: 0;position: absolute;width: 1px;}#sk-container-id-2 div.sk-estimator {font-family: monospace;background-color: #f0f8ff;border: 1px dotted black;border-radius: 0.25em;box-sizing: border-box;margin-bottom: 0.5em;}#sk-container-id-2 div.sk-estimator:hover {background-color: #d4ebff;}#sk-container-id-2 div.sk-parallel-item::after {content: \"\";width: 100%;border-bottom: 1px solid gray;flex-grow: 1;}#sk-container-id-2 div.sk-label:hover label.sk-toggleable__label {background-color: #d4ebff;}#sk-container-id-2 div.sk-serial::before {content: \"\";position: absolute;border-left: 1px solid gray;box-sizing: border-box;top: 0;bottom: 0;left: 50%;z-index: 0;}#sk-container-id-2 div.sk-serial {display: flex;flex-direction: column;align-items: center;background-color: white;padding-right: 0.2em;padding-left: 0.2em;position: relative;}#sk-container-id-2 div.sk-item {position: relative;z-index: 1;}#sk-container-id-2 div.sk-parallel {display: flex;align-items: stretch;justify-content: center;background-color: white;position: relative;}#sk-container-id-2 div.sk-item::before, #sk-container-id-2 div.sk-parallel-item::before {content: \"\";position: absolute;border-left: 1px solid gray;box-sizing: border-box;top: 0;bottom: 0;left: 50%;z-index: -1;}#sk-container-id-2 div.sk-parallel-item {display: flex;flex-direction: column;z-index: 1;position: relative;background-color: white;}#sk-container-id-2 div.sk-parallel-item:first-child::after {align-self: flex-end;width: 50%;}#sk-container-id-2 div.sk-parallel-item:last-child::after {align-self: flex-start;width: 50%;}#sk-container-id-2 div.sk-parallel-item:only-child::after {width: 0;}#sk-container-id-2 div.sk-dashed-wrapped {border: 1px dashed gray;margin: 0 0.4em 0.5em 0.4em;box-sizing: border-box;padding-bottom: 0.4em;background-color: white;}#sk-container-id-2 div.sk-label label {font-family: monospace;font-weight: bold;display: inline-block;line-height: 1.2em;}#sk-container-id-2 div.sk-label-container {text-align: center;}#sk-container-id-2 div.sk-container {/* jupyter's `normalize.less` sets `[hidden] { display: none; }` but bootstrap.min.css set `[hidden] { display: none !important; }` so we also need the `!important` here to be able to override the default hidden behavior on the sphinx rendered scikit-learn.org. See: https://github.com/scikit-learn/scikit-learn/issues/21755 */display: inline-block !important;position: relative;}#sk-container-id-2 div.sk-text-repr-fallback {display: none;}</style><div id=\"sk-container-id-2\" class=\"sk-top-container\"><div class=\"sk-text-repr-fallback\"><pre>LogisticRegression(solver=&#x27;liblinear&#x27;)</pre><b>In a Jupyter environment, please rerun this cell to show the HTML representation or trust the notebook. <br />On GitHub, the HTML representation is unable to render, please try loading this page with nbviewer.org.</b></div><div class=\"sk-container\" hidden><div class=\"sk-item\"><div class=\"sk-estimator sk-toggleable\"><input class=\"sk-toggleable__control sk-hidden--visually\" id=\"sk-estimator-id-2\" type=\"checkbox\" checked><label for=\"sk-estimator-id-2\" class=\"sk-toggleable__label sk-toggleable__label-arrow\">LogisticRegression</label><div class=\"sk-toggleable__content\"><pre>LogisticRegression(solver=&#x27;liblinear&#x27;)</pre></div></div></div></div></div>"
      ],
      "text/plain": [
       "LogisticRegression(solver='liblinear')"
      ]
     },
     "execution_count": 21,
     "metadata": {},
     "output_type": "execute_result"
    }
   ],
   "source": [
    "\n",
    "clc.fit(df_resampled[features], df_resampled['churn30'])"
   ]
  },
  {
   "cell_type": "code",
   "execution_count": 31,
   "id": "eedf4467-edec-4148-afe9-a6f648788c08",
   "metadata": {
    "tags": []
   },
   "outputs": [
    {
     "data": {
      "text/html": [
       "<style>#sk-container-id-3 {color: black;}#sk-container-id-3 pre{padding: 0;}#sk-container-id-3 div.sk-toggleable {background-color: white;}#sk-container-id-3 label.sk-toggleable__label {cursor: pointer;display: block;width: 100%;margin-bottom: 0;padding: 0.3em;box-sizing: border-box;text-align: center;}#sk-container-id-3 label.sk-toggleable__label-arrow:before {content: \"▸\";float: left;margin-right: 0.25em;color: #696969;}#sk-container-id-3 label.sk-toggleable__label-arrow:hover:before {color: black;}#sk-container-id-3 div.sk-estimator:hover label.sk-toggleable__label-arrow:before {color: black;}#sk-container-id-3 div.sk-toggleable__content {max-height: 0;max-width: 0;overflow: hidden;text-align: left;background-color: #f0f8ff;}#sk-container-id-3 div.sk-toggleable__content pre {margin: 0.2em;color: black;border-radius: 0.25em;background-color: #f0f8ff;}#sk-container-id-3 input.sk-toggleable__control:checked~div.sk-toggleable__content {max-height: 200px;max-width: 100%;overflow: auto;}#sk-container-id-3 input.sk-toggleable__control:checked~label.sk-toggleable__label-arrow:before {content: \"▾\";}#sk-container-id-3 div.sk-estimator input.sk-toggleable__control:checked~label.sk-toggleable__label {background-color: #d4ebff;}#sk-container-id-3 div.sk-label input.sk-toggleable__control:checked~label.sk-toggleable__label {background-color: #d4ebff;}#sk-container-id-3 input.sk-hidden--visually {border: 0;clip: rect(1px 1px 1px 1px);clip: rect(1px, 1px, 1px, 1px);height: 1px;margin: -1px;overflow: hidden;padding: 0;position: absolute;width: 1px;}#sk-container-id-3 div.sk-estimator {font-family: monospace;background-color: #f0f8ff;border: 1px dotted black;border-radius: 0.25em;box-sizing: border-box;margin-bottom: 0.5em;}#sk-container-id-3 div.sk-estimator:hover {background-color: #d4ebff;}#sk-container-id-3 div.sk-parallel-item::after {content: \"\";width: 100%;border-bottom: 1px solid gray;flex-grow: 1;}#sk-container-id-3 div.sk-label:hover label.sk-toggleable__label {background-color: #d4ebff;}#sk-container-id-3 div.sk-serial::before {content: \"\";position: absolute;border-left: 1px solid gray;box-sizing: border-box;top: 0;bottom: 0;left: 50%;z-index: 0;}#sk-container-id-3 div.sk-serial {display: flex;flex-direction: column;align-items: center;background-color: white;padding-right: 0.2em;padding-left: 0.2em;position: relative;}#sk-container-id-3 div.sk-item {position: relative;z-index: 1;}#sk-container-id-3 div.sk-parallel {display: flex;align-items: stretch;justify-content: center;background-color: white;position: relative;}#sk-container-id-3 div.sk-item::before, #sk-container-id-3 div.sk-parallel-item::before {content: \"\";position: absolute;border-left: 1px solid gray;box-sizing: border-box;top: 0;bottom: 0;left: 50%;z-index: -1;}#sk-container-id-3 div.sk-parallel-item {display: flex;flex-direction: column;z-index: 1;position: relative;background-color: white;}#sk-container-id-3 div.sk-parallel-item:first-child::after {align-self: flex-end;width: 50%;}#sk-container-id-3 div.sk-parallel-item:last-child::after {align-self: flex-start;width: 50%;}#sk-container-id-3 div.sk-parallel-item:only-child::after {width: 0;}#sk-container-id-3 div.sk-dashed-wrapped {border: 1px dashed gray;margin: 0 0.4em 0.5em 0.4em;box-sizing: border-box;padding-bottom: 0.4em;background-color: white;}#sk-container-id-3 div.sk-label label {font-family: monospace;font-weight: bold;display: inline-block;line-height: 1.2em;}#sk-container-id-3 div.sk-label-container {text-align: center;}#sk-container-id-3 div.sk-container {/* jupyter's `normalize.less` sets `[hidden] { display: none; }` but bootstrap.min.css set `[hidden] { display: none !important; }` so we also need the `!important` here to be able to override the default hidden behavior on the sphinx rendered scikit-learn.org. See: https://github.com/scikit-learn/scikit-learn/issues/21755 */display: inline-block !important;position: relative;}#sk-container-id-3 div.sk-text-repr-fallback {display: none;}</style><div id=\"sk-container-id-3\" class=\"sk-top-container\"><div class=\"sk-text-repr-fallback\"><pre>SVC(probability=True)</pre><b>In a Jupyter environment, please rerun this cell to show the HTML representation or trust the notebook. <br />On GitHub, the HTML representation is unable to render, please try loading this page with nbviewer.org.</b></div><div class=\"sk-container\" hidden><div class=\"sk-item\"><div class=\"sk-estimator sk-toggleable\"><input class=\"sk-toggleable__control sk-hidden--visually\" id=\"sk-estimator-id-3\" type=\"checkbox\" checked><label for=\"sk-estimator-id-3\" class=\"sk-toggleable__label sk-toggleable__label-arrow\">SVC</label><div class=\"sk-toggleable__content\"><pre>SVC(probability=True)</pre></div></div></div></div></div>"
      ],
      "text/plain": [
       "SVC(probability=True)"
      ]
     },
     "execution_count": 31,
     "metadata": {},
     "output_type": "execute_result"
    }
   ],
   "source": [
    "svc.fit(combined_df[features], combined_df['churn30'])"
   ]
  },
  {
   "cell_type": "code",
   "execution_count": 32,
   "id": "2968e796-6a18-4123-a278-0a29c9e562ef",
   "metadata": {
    "tags": []
   },
   "outputs": [
    {
     "data": {
      "text/html": [
       "<style>#sk-container-id-4 {color: black;}#sk-container-id-4 pre{padding: 0;}#sk-container-id-4 div.sk-toggleable {background-color: white;}#sk-container-id-4 label.sk-toggleable__label {cursor: pointer;display: block;width: 100%;margin-bottom: 0;padding: 0.3em;box-sizing: border-box;text-align: center;}#sk-container-id-4 label.sk-toggleable__label-arrow:before {content: \"▸\";float: left;margin-right: 0.25em;color: #696969;}#sk-container-id-4 label.sk-toggleable__label-arrow:hover:before {color: black;}#sk-container-id-4 div.sk-estimator:hover label.sk-toggleable__label-arrow:before {color: black;}#sk-container-id-4 div.sk-toggleable__content {max-height: 0;max-width: 0;overflow: hidden;text-align: left;background-color: #f0f8ff;}#sk-container-id-4 div.sk-toggleable__content pre {margin: 0.2em;color: black;border-radius: 0.25em;background-color: #f0f8ff;}#sk-container-id-4 input.sk-toggleable__control:checked~div.sk-toggleable__content {max-height: 200px;max-width: 100%;overflow: auto;}#sk-container-id-4 input.sk-toggleable__control:checked~label.sk-toggleable__label-arrow:before {content: \"▾\";}#sk-container-id-4 div.sk-estimator input.sk-toggleable__control:checked~label.sk-toggleable__label {background-color: #d4ebff;}#sk-container-id-4 div.sk-label input.sk-toggleable__control:checked~label.sk-toggleable__label {background-color: #d4ebff;}#sk-container-id-4 input.sk-hidden--visually {border: 0;clip: rect(1px 1px 1px 1px);clip: rect(1px, 1px, 1px, 1px);height: 1px;margin: -1px;overflow: hidden;padding: 0;position: absolute;width: 1px;}#sk-container-id-4 div.sk-estimator {font-family: monospace;background-color: #f0f8ff;border: 1px dotted black;border-radius: 0.25em;box-sizing: border-box;margin-bottom: 0.5em;}#sk-container-id-4 div.sk-estimator:hover {background-color: #d4ebff;}#sk-container-id-4 div.sk-parallel-item::after {content: \"\";width: 100%;border-bottom: 1px solid gray;flex-grow: 1;}#sk-container-id-4 div.sk-label:hover label.sk-toggleable__label {background-color: #d4ebff;}#sk-container-id-4 div.sk-serial::before {content: \"\";position: absolute;border-left: 1px solid gray;box-sizing: border-box;top: 0;bottom: 0;left: 50%;z-index: 0;}#sk-container-id-4 div.sk-serial {display: flex;flex-direction: column;align-items: center;background-color: white;padding-right: 0.2em;padding-left: 0.2em;position: relative;}#sk-container-id-4 div.sk-item {position: relative;z-index: 1;}#sk-container-id-4 div.sk-parallel {display: flex;align-items: stretch;justify-content: center;background-color: white;position: relative;}#sk-container-id-4 div.sk-item::before, #sk-container-id-4 div.sk-parallel-item::before {content: \"\";position: absolute;border-left: 1px solid gray;box-sizing: border-box;top: 0;bottom: 0;left: 50%;z-index: -1;}#sk-container-id-4 div.sk-parallel-item {display: flex;flex-direction: column;z-index: 1;position: relative;background-color: white;}#sk-container-id-4 div.sk-parallel-item:first-child::after {align-self: flex-end;width: 50%;}#sk-container-id-4 div.sk-parallel-item:last-child::after {align-self: flex-start;width: 50%;}#sk-container-id-4 div.sk-parallel-item:only-child::after {width: 0;}#sk-container-id-4 div.sk-dashed-wrapped {border: 1px dashed gray;margin: 0 0.4em 0.5em 0.4em;box-sizing: border-box;padding-bottom: 0.4em;background-color: white;}#sk-container-id-4 div.sk-label label {font-family: monospace;font-weight: bold;display: inline-block;line-height: 1.2em;}#sk-container-id-4 div.sk-label-container {text-align: center;}#sk-container-id-4 div.sk-container {/* jupyter's `normalize.less` sets `[hidden] { display: none; }` but bootstrap.min.css set `[hidden] { display: none !important; }` so we also need the `!important` here to be able to override the default hidden behavior on the sphinx rendered scikit-learn.org. See: https://github.com/scikit-learn/scikit-learn/issues/21755 */display: inline-block !important;position: relative;}#sk-container-id-4 div.sk-text-repr-fallback {display: none;}</style><div id=\"sk-container-id-4\" class=\"sk-top-container\"><div class=\"sk-text-repr-fallback\"><pre>DecisionTreeClassifier()</pre><b>In a Jupyter environment, please rerun this cell to show the HTML representation or trust the notebook. <br />On GitHub, the HTML representation is unable to render, please try loading this page with nbviewer.org.</b></div><div class=\"sk-container\" hidden><div class=\"sk-item\"><div class=\"sk-estimator sk-toggleable\"><input class=\"sk-toggleable__control sk-hidden--visually\" id=\"sk-estimator-id-4\" type=\"checkbox\" checked><label for=\"sk-estimator-id-4\" class=\"sk-toggleable__label sk-toggleable__label-arrow\">DecisionTreeClassifier</label><div class=\"sk-toggleable__content\"><pre>DecisionTreeClassifier()</pre></div></div></div></div></div>"
      ],
      "text/plain": [
       "DecisionTreeClassifier()"
      ]
     },
     "execution_count": 32,
     "metadata": {},
     "output_type": "execute_result"
    }
   ],
   "source": [
    "cld.fit(combined_df[features], combined_df['churn30'])"
   ]
  },
  {
   "cell_type": "code",
   "execution_count": 41,
   "id": "2546345c-3446-4b18-8f84-951976039337",
   "metadata": {
    "tags": []
   },
   "outputs": [
    {
     "data": {
      "text/html": [
       "<style>#sk-container-id-6 {color: black;}#sk-container-id-6 pre{padding: 0;}#sk-container-id-6 div.sk-toggleable {background-color: white;}#sk-container-id-6 label.sk-toggleable__label {cursor: pointer;display: block;width: 100%;margin-bottom: 0;padding: 0.3em;box-sizing: border-box;text-align: center;}#sk-container-id-6 label.sk-toggleable__label-arrow:before {content: \"▸\";float: left;margin-right: 0.25em;color: #696969;}#sk-container-id-6 label.sk-toggleable__label-arrow:hover:before {color: black;}#sk-container-id-6 div.sk-estimator:hover label.sk-toggleable__label-arrow:before {color: black;}#sk-container-id-6 div.sk-toggleable__content {max-height: 0;max-width: 0;overflow: hidden;text-align: left;background-color: #f0f8ff;}#sk-container-id-6 div.sk-toggleable__content pre {margin: 0.2em;color: black;border-radius: 0.25em;background-color: #f0f8ff;}#sk-container-id-6 input.sk-toggleable__control:checked~div.sk-toggleable__content {max-height: 200px;max-width: 100%;overflow: auto;}#sk-container-id-6 input.sk-toggleable__control:checked~label.sk-toggleable__label-arrow:before {content: \"▾\";}#sk-container-id-6 div.sk-estimator input.sk-toggleable__control:checked~label.sk-toggleable__label {background-color: #d4ebff;}#sk-container-id-6 div.sk-label input.sk-toggleable__control:checked~label.sk-toggleable__label {background-color: #d4ebff;}#sk-container-id-6 input.sk-hidden--visually {border: 0;clip: rect(1px 1px 1px 1px);clip: rect(1px, 1px, 1px, 1px);height: 1px;margin: -1px;overflow: hidden;padding: 0;position: absolute;width: 1px;}#sk-container-id-6 div.sk-estimator {font-family: monospace;background-color: #f0f8ff;border: 1px dotted black;border-radius: 0.25em;box-sizing: border-box;margin-bottom: 0.5em;}#sk-container-id-6 div.sk-estimator:hover {background-color: #d4ebff;}#sk-container-id-6 div.sk-parallel-item::after {content: \"\";width: 100%;border-bottom: 1px solid gray;flex-grow: 1;}#sk-container-id-6 div.sk-label:hover label.sk-toggleable__label {background-color: #d4ebff;}#sk-container-id-6 div.sk-serial::before {content: \"\";position: absolute;border-left: 1px solid gray;box-sizing: border-box;top: 0;bottom: 0;left: 50%;z-index: 0;}#sk-container-id-6 div.sk-serial {display: flex;flex-direction: column;align-items: center;background-color: white;padding-right: 0.2em;padding-left: 0.2em;position: relative;}#sk-container-id-6 div.sk-item {position: relative;z-index: 1;}#sk-container-id-6 div.sk-parallel {display: flex;align-items: stretch;justify-content: center;background-color: white;position: relative;}#sk-container-id-6 div.sk-item::before, #sk-container-id-6 div.sk-parallel-item::before {content: \"\";position: absolute;border-left: 1px solid gray;box-sizing: border-box;top: 0;bottom: 0;left: 50%;z-index: -1;}#sk-container-id-6 div.sk-parallel-item {display: flex;flex-direction: column;z-index: 1;position: relative;background-color: white;}#sk-container-id-6 div.sk-parallel-item:first-child::after {align-self: flex-end;width: 50%;}#sk-container-id-6 div.sk-parallel-item:last-child::after {align-self: flex-start;width: 50%;}#sk-container-id-6 div.sk-parallel-item:only-child::after {width: 0;}#sk-container-id-6 div.sk-dashed-wrapped {border: 1px dashed gray;margin: 0 0.4em 0.5em 0.4em;box-sizing: border-box;padding-bottom: 0.4em;background-color: white;}#sk-container-id-6 div.sk-label label {font-family: monospace;font-weight: bold;display: inline-block;line-height: 1.2em;}#sk-container-id-6 div.sk-label-container {text-align: center;}#sk-container-id-6 div.sk-container {/* jupyter's `normalize.less` sets `[hidden] { display: none; }` but bootstrap.min.css set `[hidden] { display: none !important; }` so we also need the `!important` here to be able to override the default hidden behavior on the sphinx rendered scikit-learn.org. See: https://github.com/scikit-learn/scikit-learn/issues/21755 */display: inline-block !important;position: relative;}#sk-container-id-6 div.sk-text-repr-fallback {display: none;}</style><div id=\"sk-container-id-6\" class=\"sk-top-container\"><div class=\"sk-text-repr-fallback\"><pre>LogisticRegression(solver=&#x27;liblinear&#x27;)</pre><b>In a Jupyter environment, please rerun this cell to show the HTML representation or trust the notebook. <br />On GitHub, the HTML representation is unable to render, please try loading this page with nbviewer.org.</b></div><div class=\"sk-container\" hidden><div class=\"sk-item\"><div class=\"sk-estimator sk-toggleable\"><input class=\"sk-toggleable__control sk-hidden--visually\" id=\"sk-estimator-id-6\" type=\"checkbox\" checked><label for=\"sk-estimator-id-6\" class=\"sk-toggleable__label sk-toggleable__label-arrow\">LogisticRegression</label><div class=\"sk-toggleable__content\"><pre>LogisticRegression(solver=&#x27;liblinear&#x27;)</pre></div></div></div></div></div>"
      ],
      "text/plain": [
       "LogisticRegression(solver='liblinear')"
      ]
     },
     "execution_count": 41,
     "metadata": {},
     "output_type": "execute_result"
    }
   ],
   "source": [
    "clf.fit(combined_df[features], combined_df['churn30'])\n"
   ]
  },
  {
   "cell_type": "code",
   "execution_count": 23,
   "id": "6e57604d-fff6-4e1a-8358-4054edebb24c",
   "metadata": {
    "tags": []
   },
   "outputs": [],
   "source": [
    "# Create feature variable\n",
    "X = df_resampled.drop('churn30', axis=1)\n",
    "\n",
    "# Create target variable\n",
    "y =  df_resampled['churn30']\n",
    "X_train, X_test, y_train, y_test = train_test_split(X, y, test_size=0.3,random_state=42)"
   ]
  },
  {
   "cell_type": "code",
   "execution_count": 24,
   "id": "9de1f636-b5c6-48c7-941e-15b041b169d3",
   "metadata": {
    "tags": []
   },
   "outputs": [
    {
     "data": {
      "text/plain": [
       "10131"
      ]
     },
     "execution_count": 24,
     "metadata": {},
     "output_type": "execute_result"
    }
   ],
   "source": [
    "len(X_train)\n"
   ]
  },
  {
   "cell_type": "code",
   "execution_count": 25,
   "id": "ee6cda76-dea3-42c3-8f94-0c5476837515",
   "metadata": {
    "tags": []
   },
   "outputs": [
    {
     "data": {
      "text/plain": [
       "4343"
      ]
     },
     "execution_count": 25,
     "metadata": {},
     "output_type": "execute_result"
    }
   ],
   "source": [
    "len(X_test)"
   ]
  },
  {
   "cell_type": "code",
   "execution_count": 43,
   "id": "1a355957-2b64-4c6e-8d8a-76593eb8e66b",
   "metadata": {
    "tags": []
   },
   "outputs": [
    {
     "name": "stdout",
     "output_type": "stream",
     "text": [
      "Accuracy:  0.7920792079207921\n",
      "Precision:  0.7429943955164131\n",
      "Recall:  0.8767123287671232\n"
     ]
    },
    {
     "data": {
      "image/png": "[encoded data removed]",
      "text/plain": [
       "<Figure size 640x480 with 1 Axes>"
      ]
     },
     "metadata": {},
     "output_type": "display_data"
    },
    {
     "name": "stdout",
     "output_type": "stream",
     "text": [
      "roc:  0.8696213131111215\n",
      "f1:  0.8043336944745396\n",
      "[[1584  642]\n",
      " [ 261 1856]]\n"
     ]
    }
   ],
   "source": [
    "# Fit to the training data/RandomForestClassifier\n",
    "clf.fit(X_train, y_train)\n",
    "\n",
    "# Compute accuracy\n",
    "print(\"Accuracy: \",clf.score(X_test, y_test))\n",
    "y_pred_random = clf.predict(X_test)\n",
    "print(\"Precision: \",precision_score(y_test, y_pred_random))\n",
    "print(\"Recall: \",recall_score(y_test, y_pred_random))\n",
    "y_pred_prob_random = clf.predict_proba(X_test)[:, 1]\n",
    "fpr, tpr, thresholds = roc_curve(y_test, y_pred_prob_random)\n",
    "# Plot the ROC curve\n",
    "plt.plot(fpr, tpr)\n",
    "\n",
    "# Add labels and diagonal line\n",
    "plt.xlabel(\"False Positive Rate\")\n",
    "plt.ylabel(\"True Positive Rate\")\n",
    "plt.plot([0, 1], [0, 1], \"k--\")\n",
    "plt.show()\n",
    "# Print the AUC\n",
    "print(\"roc: \", roc_auc_score(y_test, y_pred_prob_random))\n",
    "print(\"f1: \",f1_score(y_test, y_pred_random))\n",
    "print(confusion_matrix(y_test, y_pred_random))"
   ]
  },
  {
   "cell_type": "code",
   "execution_count": 44,
   "id": "6b3dc31c-ec07-45d7-b28b-9e86bad583e7",
   "metadata": {
    "tags": []
   },
   "outputs": [
    {
     "name": "stdout",
     "output_type": "stream",
     "text": [
      "0.8544784711029243\n",
      "0.8455095393206142\n",
      "0.858290033065659\n"
     ]
    },
    {
     "data": {
      "image/png": "[encoded data removed]",
      "text/plain": [
       "<Figure size 640x480 with 1 Axes>"
      ]
     },
     "metadata": {},
     "output_type": "display_data"
    },
    {
     "name": "stdout",
     "output_type": "stream",
     "text": [
      "0.931940488604422\n",
      "0.851851851851852\n",
      "[[1894  332]\n",
      " [ 300 1817]]\n"
     ]
    }
   ],
   "source": [
    "# Fit to the training data/LogisticRegression\n",
    "clc.fit(X_train, y_train)\n",
    "\n",
    "# Compute accuracy\n",
    "print(clc.score(X_test, y_test))\n",
    "y_pred_logistic = clc.predict(X_test)\n",
    "print(precision_score(y_test, y_pred_logistic))\n",
    "print(recall_score(y_test, y_pred_logistic))\n",
    "y_pred_prob_logistic = clc.predict_proba(X_test)[:, 1]\n",
    "fpr, tpr, thresholds = roc_curve(y_test, y_pred_prob_logistic)\n",
    "# Plot the ROC curve\n",
    "plt.plot(fpr, tpr)\n",
    "\n",
    "# Add labels and diagonal line\n",
    "plt.xlabel(\"False Positive Rate\")\n",
    "plt.ylabel(\"True Positive Rate\")\n",
    "plt.plot([0, 1], [0, 1], \"k--\")\n",
    "plt.show()\n",
    "# Print the AUC\n",
    "print(roc_auc_score(y_test, y_pred_prob_logistic))\n",
    "print(f1_score(y_test, y_pred_logistic))\n",
    "print(confusion_matrix(y_test, y_pred_logistic))"
   ]
  },
  {
   "cell_type": "code",
   "execution_count": 45,
   "id": "967af446-dfb7-4ba9-8d28-8a8772e1c286",
   "metadata": {
    "tags": []
   },
   "outputs": [
    {
     "name": "stdout",
     "output_type": "stream",
     "text": [
      "0.7950725305088648\n",
      "0.7797537619699042\n",
      "0.807746811525744\n"
     ]
    },
    {
     "data": {
      "image/png": "[encoded data removed]",
      "text/plain": [
       "<Figure size 640x480 with 1 Axes>"
      ]
     },
     "metadata": {},
     "output_type": "display_data"
    },
    {
     "name": "stdout",
     "output_type": "stream",
     "text": [
      "0.7968178706496548\n",
      "0.7935034802784223\n",
      "[[1743  483]\n",
      " [ 407 1710]]\n"
     ]
    }
   ],
   "source": [
    "# Fit to the training data/DecisionTreeClassifier\n",
    "cld.fit(X_train, y_train)\n",
    "\n",
    "# Compute accuracy\n",
    "print(cld.score(X_test, y_test))\n",
    "y_pred_decision = cld.predict(X_test)\n",
    "print(precision_score(y_test, y_pred_decision))\n",
    "print(recall_score(y_test, y_pred_decision))\n",
    "y_pred_prob_decision = cld.predict_proba(X_test)[:, 1]\n",
    "fpr, tpr, thresholds = roc_curve(y_test, y_pred_prob_decision)\n",
    "# Plot the ROC curve\n",
    "plt.plot(fpr, tpr)\n",
    "\n",
    "# Add labels and diagonal line\n",
    "plt.xlabel(\"False Positive Rate\")\n",
    "plt.ylabel(\"True Positive Rate\")\n",
    "plt.plot([0, 1], [0, 1], \"k--\")\n",
    "plt.show()\n",
    "# Print the AUC\n",
    "print(roc_auc_score(y_test, y_pred_prob_decision))\n",
    "print(f1_score(y_test, y_pred_decision))\n",
    "print(confusion_matrix(y_test, y_pred_decision))"
   ]
  },
  {
   "cell_type": "code",
   "execution_count": 46,
   "id": "b4c35c5e-834b-46d2-b9c2-814c272ae296",
   "metadata": {
    "tags": []
   },
   "outputs": [
    {
     "name": "stdout",
     "output_type": "stream",
     "text": [
      "0.7819479622380843\n",
      "0.7326968973747017\n",
      "0.870099196976854\n"
     ]
    },
    {
     "data": {
      "image/png": "[encoded data removed]",
      "text/plain": [
       "<Figure size 640x480 with 1 Axes>"
      ]
     },
     "metadata": {},
     "output_type": "display_data"
    },
    {
     "name": "stdout",
     "output_type": "stream",
     "text": [
      "0.8650540420444431\n",
      "0.7955085294752754\n",
      "[[1554  672]\n",
      " [ 275 1842]]\n"
     ]
    }
   ],
   "source": [
    "# Fit to the training data/SVC\n",
    "svc.fit(X_train, y_train)\n",
    "\n",
    "# Compute accuracy\n",
    "print(svc.score(X_test, y_test))\n",
    "y_pred_svc =svc.predict(X_test)\n",
    "print(precision_score(y_test, y_pred_svc))\n",
    "print(recall_score(y_test, y_pred_svc))\n",
    "y_pred_prob_svc = svc.predict_proba(X_test)[:, 1]\n",
    "fpr, tpr, thresholds = roc_curve(y_test, y_pred_prob_svc)\n",
    "# Plot the ROC curve\n",
    "plt.plot(fpr, tpr)\n",
    "\n",
    "# Add labels and diagonal line\n",
    "plt.xlabel(\"False Positive Rate\")\n",
    "plt.ylabel(\"True Positive Rate\")\n",
    "plt.plot([0, 1], [0, 1], \"k--\")\n",
    "plt.show()\n",
    "# Print the AUC\n",
    "print(roc_auc_score(y_test, y_pred_prob_svc))\n",
    "print(f1_score(y_test, y_pred_svc))\n",
    "print(confusion_matrix(y_test, y_pred_svc))"
   ]
  },
  {
   "cell_type": "code",
   "execution_count": null,
   "id": "f248f6da-94e0-472f-bf66-f2d24379ad26",
   "metadata": {},
   "outputs": [],
   "source": []
  }
 ],
 "metadata": {
  "kernelspec": {
   "display_name": "Python 3 (ipykernel)",
   "language": "python",
   "name": "python3"
  },
  "language_info": {
   "codemirror_mode": {
    "name": "ipython",
    "version": 3
   },
   "file_extension": ".py",
   "mimetype": "text/x-python",
   "name": "python",
   "nbconvert_exporter": "python",
   "pygments_lexer": "ipython3",
   "version": "3.10.11"
  }
 },
 "nbformat": 4,
 "nbformat_minor": 5
}
